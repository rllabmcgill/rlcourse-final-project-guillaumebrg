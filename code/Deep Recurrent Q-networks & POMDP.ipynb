{
 "cells": [
  {
   "cell_type": "markdown",
   "metadata": {
    "deletable": true,
    "editable": true
   },
   "source": [
    "# Deep Recurrent Q-learning for POMDP"
   ]
  },
  {
   "cell_type": "markdown",
   "metadata": {
    "deletable": true,
    "editable": true
   },
   "source": [
    "https://arxiv.org/pdf/1507.06527.pdf"
   ]
  },
  {
   "cell_type": "markdown",
   "metadata": {
    "deletable": true,
    "editable": true
   },
   "source": [
    "#### Guillaume Berger"
   ]
  },
  {
   "cell_type": "markdown",
   "metadata": {
    "deletable": true,
    "editable": true
   },
   "source": [
    "#### The limit of Deep Q-Networks"
   ]
  },
  {
   "cell_type": "markdown",
   "metadata": {
    "deletable": true,
    "editable": true
   },
   "source": [
    "*Deep Q-Networks (DQNs)* have recently known great successes, especially with Atari 2600 games, on which they achieved state-of-the-art results [2, 3]. A DQN agent is learning policies from raw pixels exploiting a CNN trained via Q-Learning. Although training such agents is hard, long, and requires some tricks (Experience Replay, Target network...), obtained policies are above or near-human performance on many Atari games.\n",
    "\n",
    "However, DQNs are limited: they take decisions from a fixed number of past observations. More concretely, a DQN agent trained on an Atari game usually takes its decisions based on the last four observed frames:"
   ]
  },
  {
   "cell_type": "markdown",
   "metadata": {
    "deletable": true,
    "editable": true
   },
   "source": [
    "<img src=\"imgs/DQN_.png\", width=600>"
   ]
  },
  {
   "cell_type": "markdown",
   "metadata": {
    "deletable": true,
    "editable": true
   },
   "source": [
    "Due to its limited receptive field over past interactions, such agent would not be able to master tasks in wich it is important to remember information from early timesteps. On Atari games, it does not really matter because knowing only the last 4 frames is most of the time sufficient to determine the optimal policy. In other words, for Atari games, including the last four observed frames in the state representation is enough to make the environment be Markovian. Nevertheless, we could easily imagine games, or real-word applications, where it would be important for the agent to store memories of past interactions in order to determine a more clever long-term strategy. A DQN, as presented in the previous figure, would not be well equiped for this kind of task. "
   ]
  },
  {
   "cell_type": "markdown",
   "metadata": {
    "deletable": true,
    "editable": true
   },
   "source": [
    "#### Partial Observability"
   ]
  },
  {
   "cell_type": "markdown",
   "metadata": {
    "deletable": true,
    "editable": true
   },
   "source": [
    "Unfortunately, in most real-world applications, the entire world is not visible at any moment, but partially observable. *[add example]*. In this context, the environment does not meet the standards of a Markovian Decision Process (MDP) because the current state is not sufficient to select the optimal policy: we talk of Partialy Observable Markov Decision Processes (POMDPs). In order to master POMDPs, it is important to allow the agent to store (and read from) memories of past interactions. *Deep Recurrent Q-Networks (DRQNs)* [1] offers a way of achieving this."
   ]
  },
  {
   "cell_type": "markdown",
   "metadata": {
    "deletable": true,
    "editable": true
   },
   "source": [
    "#### Deep Recurrent Q-Networks"
   ]
  },
  {
   "cell_type": "markdown",
   "metadata": {
    "deletable": true,
    "editable": true
   },
   "source": [
    "As illustrated below, designing the architecture of a DRQN could simply consist in adding one recurrent layer on top of feedforward ones. In comparison with feedforward layers, recurrent ones have hidden states that are persistent over time:\n",
    "\n",
    "$$h_{t+1} = \\Phi(U \\ x_{t+1}  +  W \\ h_t) $$\n",
    "\n",
    "where $h_t$ represents the hidden states, $x_{t+1}$ is the new input at timestep $t+1$, and $\\Phi$ is a non-linearity. Therefore, at timestep $T$, the hidden states $h_T$ depends on all previously visited states $h_t, t<T$. Consequently, one can hope that a DRQN agent will be able to exploits past experience via the persistent states of its recurrent layer. Note that, in practice, one would probably prefer LSTM layers, for which the recurrent equation is more complex, over simple recurrent layers as they are better at learning long-term dependencies.  "
   ]
  },
  {
   "cell_type": "markdown",
   "metadata": {
    "deletable": true,
    "editable": true
   },
   "source": [
    "<img src=\"imgs/DRQN.png\", width=800>"
   ]
  },
  {
   "cell_type": "markdown",
   "metadata": {
    "deletable": true,
    "editable": true
   },
   "source": [
    "In [1], they compared DQNs and DRQNs, trained on POMDP versions of Atari games. Results illustrate the benefit of incorporating recurrent layers in the architecture of the function approximator: as expected, **DRQNs better handle partial observability**"
   ]
  },
  {
   "cell_type": "markdown",
   "metadata": {
    "deletable": true,
    "editable": true
   },
   "source": [
    "#### Some related papers"
   ]
  },
  {
   "cell_type": "markdown",
   "metadata": {
    "deletable": true,
    "editable": true
   },
   "source": [
    "While giving the opportunity of storing memories to the agent is not a novel idea (e.g. [7]), this memory mechanism seems to be a hot topic currently:\n",
    "\n",
    "-  *Feedback Recurrent Memory Q-Networks (FRMQNs)* [4] obtains promising results on Minecraft tasks. FRMQNs not only exploits recurrent nets, but also Memory Networks [6] which provides another neural mechanism for storing experiences. In comparison with LSTMs, the memory of MemNets is more explicit and compartimentalized.\n",
    "\n",
    "- The very recent DeepMind paper [5] also investigates a mechanism that allows the agent to store past experiences. However, their memory mechanism seems to be mostly aimed at speeding up the training of DQNs rather than improving performance on POMDPs."
   ]
  },
  {
   "cell_type": "markdown",
   "metadata": {
    "deletable": true,
    "editable": true
   },
   "source": [
    "### References"
   ]
  },
  {
   "cell_type": "markdown",
   "metadata": {
    "deletable": true,
    "editable": true
   },
   "source": [
    "[1] **Deep Recurrent Q-Learning for Partially Observable MDPs**, Matthew Hausknecht and Peter Stone, (2015)\n",
    "\n",
    "[2] **Playing Atari with Deep Reinforcement Learning**, Volodymyr Mnih, Koray Kavukcuoglu, David Silver, Alex Graves, Ioannis Antonoglou, Daan Wierstra, Martin Riedmiller (2015)\n",
    "\n",
    "[3] **Asynchronous Methods for Deep Reinforcement Learning**, Volodymyr Mnih, Adrià Puigdomènech Badia1, Mehdi Mirza1, Alex Graves, Tim Harley, Timothy P., David Silver, Koray Kavukcuoglu (2016)\n",
    "\n",
    "[4] **Control of Memory, Active Perception, and Action in Minecraft**, Junhyuk Oh, Valliappa Chockalingam, Satinder Singh, Honglak Lee (2016)\n",
    "\n",
    "[5] **Neural Episodic Control**, Alexander Pritzel, Benigno Uria, Sriram Srinivasan, Adria Puigdom, Oriol Vinyals, Demis Hassabis, Daan Wierstra, Charles Blundell (2017)\n",
    "\n",
    "[6] **End-To-End Memory Networks**, Sainbayar Sukhbaatar, Arthur Szlam, Jason Weston, Rob Fergus (2015)\n",
    " \n",
    "[7]  **Sparse Distributed Memories for On-Line Value-Based Reinforcement Learning**, Bohdana Ratitch, Doina Precup (2004)"
   ]
  },
  {
   "cell_type": "markdown",
   "metadata": {
    "deletable": true,
    "editable": true
   },
   "source": [
    "# EXPERIMENTs"
   ]
  },
  {
   "cell_type": "markdown",
   "metadata": {
    "deletable": true,
    "editable": true
   },
   "source": [
    "You'll find below the results of DQN/RDQN on a GridWorld POMDP taken from this cool blog post: https://medium.com/emergent-future/simple-reinforcement-learning-with-tensorflow-part-6-partial-observability-and-deep-recurrent-q-68463e9aeefc\n",
    "\n",
    "I also re-use some parts of my code done for assignment 2 on DQNs (https://github.com/rllabmcgill/rlcourse-march-17-guillaumebrg). The code uses Keras v1 and has been tested with a Theano backend."
   ]
  },
  {
   "cell_type": "markdown",
   "metadata": {
    "deletable": true,
    "editable": true
   },
   "source": [
    "### Import"
   ]
  },
  {
   "cell_type": "code",
   "execution_count": 2,
   "metadata": {
    "collapsed": false,
    "deletable": true,
    "editable": true
   },
   "outputs": [
    {
     "name": "stderr",
     "output_type": "stream",
     "text": [
      "Using Theano backend.\n",
      "Using gpu device 0: GeForce GTX 850M (CNMeM is disabled, cuDNN 5005)\n"
     ]
    }
   ],
   "source": [
    "import numpy as np\n",
    "import matplotlib.pyplot as plt\n",
    "%matplotlib inline\n",
    "import time\n",
    "import pickle\n",
    "\n",
    "import dqn\n",
    "import utils\n",
    "import deepnets"
   ]
  },
  {
   "cell_type": "markdown",
   "metadata": {
    "deletable": true,
    "editable": true
   },
   "source": [
    "# A Gridworld example"
   ]
  },
  {
   "cell_type": "markdown",
   "metadata": {
    "deletable": true,
    "editable": true
   },
   "source": [
    "**Rules**: the agent (blue) evolves in a Gridworld. When the agent moves on a green cell, the reward is **+0.5**. On the contrary, when the agent moves on a red cell, the reward is **-1.0**. For any other move, the reward is **-0.1**. When a green cell is reached, it re-appears elsewhere.\n",
    "\n",
    "Inspired from https://medium.com/emergent-future/simple-reinforcement-learning-with-tensorflow-part-6-partial-observability-and-deep-recurrent-q-68463e9aeefc"
   ]
  },
  {
   "cell_type": "markdown",
   "metadata": {
    "deletable": true,
    "editable": true
   },
   "source": [
    "### Demo"
   ]
  },
  {
   "cell_type": "code",
   "execution_count": 17,
   "metadata": {
    "collapsed": false,
    "deletable": true,
    "editable": true,
    "scrolled": true
   },
   "outputs": [],
   "source": [
    "environment_demo = dqn.demo_GridWorld()"
   ]
  },
  {
   "cell_type": "markdown",
   "metadata": {
    "deletable": true,
    "editable": true
   },
   "source": [
    "#### Press Ctrl + Enter"
   ]
  },
  {
   "cell_type": "code",
   "execution_count": 28,
   "metadata": {
    "collapsed": false,
    "deletable": true,
    "editable": true
   },
   "outputs": [
    {
     "data": {
      "image/png": "[encoded data removed]",
      "text/plain": [
       "<matplotlib.figure.Figure at 0x2660cba8>"
      ]
     },
     "metadata": {},
     "output_type": "display_data"
    }
   ],
   "source": [
    "s = next(environment_demo)"
   ]
  },
  {
   "cell_type": "markdown",
   "metadata": {
    "deletable": true,
    "editable": true
   },
   "source": [
    "# DEBUGGING on a toy example"
   ]
  },
  {
   "cell_type": "markdown",
   "metadata": {
    "deletable": true,
    "editable": true
   },
   "source": [
    "### The DQN agent class - Random moves with random weights"
   ]
  },
  {
   "cell_type": "markdown",
   "metadata": {
    "deletable": true,
    "editable": true
   },
   "source": [
    "Just to check that everything works fine..."
   ]
  },
  {
   "cell_type": "markdown",
   "metadata": {
    "deletable": true,
    "editable": true
   },
   "source": [
    "#### Defining the environment / deep net / experience buffer"
   ]
  },
  {
   "cell_type": "code",
   "execution_count": 3,
   "metadata": {
    "collapsed": false,
    "deletable": true,
    "editable": true
   },
   "outputs": [],
   "source": [
    "epsilon = 0. # Fully stochastic\n",
    "gamma= 0.95\n",
    "T = 10\n",
    "\n",
    "# Environment\n",
    "environment = dqn.GridWorld(3, 3, 2, 1, T, gamma=gamma)\n",
    "# A neural net\n",
    "neuralnet = deepnets.CNN_3x3((3, 3, 3), 0.01)\n",
    "# ExperienceReplay \n",
    "experience_replay = dqn.ExperienceReplay(environment.return_state().shape, 1)"
   ]
  },
  {
   "cell_type": "markdown",
   "metadata": {
    "deletable": true,
    "editable": true
   },
   "source": [
    "#### The DQN agent"
   ]
  },
  {
   "cell_type": "code",
   "execution_count": 17,
   "metadata": {
    "collapsed": false,
    "deletable": true,
    "editable": true
   },
   "outputs": [],
   "source": [
    "agent = dqn.DQNAgent(environment, neuralnet, experience_replay, 1, epsilon=epsilon, gamma=gamma)"
   ]
  },
  {
   "cell_type": "markdown",
   "metadata": {
    "deletable": true,
    "editable": true
   },
   "source": [
    "#### Press Ctrl + Enter to make the agent move..."
   ]
  },
  {
   "cell_type": "code",
   "execution_count": 34,
   "metadata": {
    "collapsed": false,
    "deletable": true,
    "editable": true
   },
   "outputs": [
    {
     "data": {
      "image/png": "[encoded data removed]",
      "text/plain": [
       "<matplotlib.figure.Figure at 0x29159a58>"
      ]
     },
     "metadata": {},
     "output_type": "display_data"
    }
   ],
   "source": [
    "batch, target_batch =  agent.demo()"
   ]
  },
  {
   "cell_type": "markdown",
   "metadata": {
    "deletable": true,
    "editable": true
   },
   "source": [
    "# Few small experiments on this 3x3 grid"
   ]
  },
  {
   "cell_type": "markdown",
   "metadata": {
    "deletable": true,
    "editable": true
   },
   "source": [
    "**Nothing to do with POMDPs and DRQNs...** Before experimenting a POMDP and a bigger grid, I wanted to debug/test few things:\n",
    "\n",
    "- Adam vs SGD\n",
    "- TargetNet patience = 1 episode vs TargetNet patience = 5 episodes\n",
    "- Dueling vs No Dueling"
   ]
  },
  {
   "cell_type": "markdown",
   "metadata": {
    "deletable": true,
    "editable": true
   },
   "source": [
    "**A very small neural net :** 1 hidden layer with 16 neurons and ReLu activation, followed by the linear output layer."
   ]
  },
  {
   "cell_type": "code",
   "execution_count": 29,
   "metadata": {
    "collapsed": false,
    "deletable": true,
    "editable": true
   },
   "outputs": [
    {
     "name": "stdout",
     "output_type": "stream",
     "text": [
      "____________________________________________________________________________________________________\n",
      "Layer (type)                     Output Shape          Param #     Connected to                     \n",
      "====================================================================================================\n",
      "input_1 (InputLayer)             (None, 3, 3, 3)       0                                            \n",
      "____________________________________________________________________________________________________\n",
      "convolution2d_1 (Convolution2D)  (None, 16, 1, 1)      448         input_1[0][0]                    \n",
      "____________________________________________________________________________________________________\n",
      "activation_1 (Activation)        (None, 16, 1, 1)      0           convolution2d_1[0][0]            \n",
      "____________________________________________________________________________________________________\n",
      "convolution2d_2 (Convolution2D)  (None, 4, 1, 1)       68          activation_1[0][0]               \n",
      "____________________________________________________________________________________________________\n",
      "flatten_1 (Flatten)              (None, 4)             0           convolution2d_2[0][0]            \n",
      "====================================================================================================\n",
      "Total params: 516\n",
      "Trainable params: 516\n",
      "Non-trainable params: 0\n",
      "____________________________________________________________________________________________________\n"
     ]
    }
   ],
   "source": [
    "neuralnet = deepnets.CNN_3x3((3, 3, 3), 0.01, dueling=False, adam=False)\n",
    "neuralnet.summary()"
   ]
  },
  {
   "cell_type": "markdown",
   "metadata": {
    "deletable": true,
    "editable": true
   },
   "source": [
    "### Fixed parameters"
   ]
  },
  {
   "cell_type": "code",
   "execution_count": 3,
   "metadata": {
    "collapsed": true,
    "deletable": true,
    "editable": true
   },
   "outputs": [],
   "source": [
    "epsilon = 0.8 # for epsilon-greedy action selection\n",
    "gamma= 0.99 # discount factor\n",
    "batch_size = 32 # nb of samples taken from the experience buffer at each iteration\n",
    "T = 50 # length of an episode\n",
    "buffer_size = T*500 # buffer of 500 episodes"
   ]
  },
  {
   "cell_type": "markdown",
   "metadata": {
    "deletable": true,
    "editable": true
   },
   "source": [
    "### SGD vs Adam"
   ]
  },
  {
   "cell_type": "markdown",
   "metadata": {
    "deletable": true,
    "editable": true
   },
   "source": [
    "#### SGD"
   ]
  },
  {
   "cell_type": "code",
   "execution_count": 57,
   "metadata": {
    "collapsed": false,
    "deletable": true,
    "editable": true
   },
   "outputs": [],
   "source": [
    "target_patience = 5\n",
    "# Environment\n",
    "environment = dqn.GridWorld(3, 3, 2, 1, T, gamma=gamma)\n",
    "# A neural net\n",
    "neuralnet = deepnets.CNN_3x3((3, 3, 3), 0.01, dueling=False, adam=False)\n",
    "targetnet = deepnets.CNN_3x3((3, 3, 3), 0.01, dueling=False, adam=False)\n",
    "# ExperienceReplay \n",
    "experience_replay = dqn.ExperienceReplay(environment.return_state().shape, buffer_size)\n",
    "# Agent\n",
    "agent = dqn.DQNAgent(environment, neuralnet, experience_replay, batch_size, target_net=targetnet, \n",
    "                     target_net_patience=target_patience, epsilon=epsilon, gamma=gamma)"
   ]
  },
  {
   "cell_type": "code",
   "execution_count": 58,
   "metadata": {
    "collapsed": true,
    "deletable": true,
    "editable": true
   },
   "outputs": [
    {
     "name": "stdout",
     "output_type": "stream",
     "text": [
      "Episode 2999 - Running cum reward = 5.204 took 0.3s..                                                                                                                                                                                                                                                                                                                                                                                                                                                                                                                                                                                                                                                                                                                                                                                                                                                                                                                                                                                                                                                                                                                                                                                                                                                                                                                                                                                                                                                                                                                                                                                                                                                                                                                                                                                                                                                                                                                                                                                                                                                                                                                                                                                                                                                                                                                                                                                                                                                                                                                                                                                                                                                                                                                                                                                                                                                                                                                                                                                                                                                                                                                    \n"
     ]
    }
   ],
   "source": [
    "name = \"sgd\"\n",
    "# Train for 100 epochs of 1500 updates\n",
    "agent.fit(1500, 100, max_q_size=10, savename=\"experiment_01/weights_%s.npy\"%name)\n",
    "# Save learning curve\n",
    "agent.save_curve(\"experiment_01/curve_%s.npy\"%name)"
   ]
  },
  {
   "cell_type": "markdown",
   "metadata": {
    "deletable": true,
    "editable": true
   },
   "source": [
    "#### Adam"
   ]
  },
  {
   "cell_type": "code",
   "execution_count": 59,
   "metadata": {
    "collapsed": true,
    "deletable": true,
    "editable": true
   },
   "outputs": [],
   "source": [
    "target_patience = 5\n",
    "# Environment\n",
    "environment = dqn.GridWorld(3, 3, 2, 1, T, gamma=gamma)\n",
    "# A neural net\n",
    "neuralnet = deepnets.CNN_3x3((3, 3, 3), 0.01, dueling=False, adam=True)\n",
    "targetnet = deepnets.CNN_3x3((3, 3, 3), 0.01, dueling=False, adam=True)\n",
    "# ExperienceReplay \n",
    "experience_replay = dqn.ExperienceReplay(environment.return_state().shape, buffer_size)\n",
    "# Agent\n",
    "agent = dqn.DQNAgent(environment, neuralnet, experience_replay, batch_size, target_net=targetnet, \n",
    "                     target_net_patience=target_patience, epsilon=epsilon, gamma=gamma)"
   ]
  },
  {
   "cell_type": "code",
   "execution_count": 60,
   "metadata": {
    "collapsed": true,
    "deletable": true,
    "editable": true
   },
   "outputs": [
    {
     "name": "stdout",
     "output_type": "stream",
     "text": [
      "Episode 2998 - Running cum reward = -3.603 took 0.4s.                                                                                                                                                                                                                                                                                                                                                                                                                                                                                                                                                                                                                                                                                                                                                                                                                                                                                                                                                                                                                                                                                                                                                                                                                                                                                                                                                                                                                                                                                                                                                                                                                                                                                                                                                                                                                                                                                                                                                                                                                                                                                                                                                                                                                                                                                                                                                                                                                                                                                                                                                                                                                                                                                                                                                                                                                                                                                                                                                                                                                                                                                                                   \n"
     ]
    }
   ],
   "source": [
    "name = \"adam\"\n",
    "# Train for 75 epochs of 1000 updates\n",
    "agent.fit(1500, 100, max_q_size=10, savename=\"experiment_01/weights_%s.npy\"%name)\n",
    "# Save learning curve\n",
    "agent.save_curve(\"experiment_01/curve_%s.npy\"%name)"
   ]
  },
  {
   "cell_type": "markdown",
   "metadata": {
    "collapsed": true,
    "deletable": true,
    "editable": true
   },
   "source": [
    "#### Learning curves"
   ]
  },
  {
   "cell_type": "code",
   "execution_count": 34,
   "metadata": {
    "collapsed": false,
    "deletable": true,
    "editable": true,
    "scrolled": true
   },
   "outputs": [
    {
     "data": {
      "image/png": "[encoded data removed]",
      "text/plain": [
       "<matplotlib.figure.Figure at 0x27533908>"
      ]
     },
     "metadata": {},
     "output_type": "display_data"
    }
   ],
   "source": [
    "plt.figure()\n",
    "for name in [\"sgd\", \"adam\"]:\n",
    "    curve = np.load(\"experiment_01/curve_%s.npy\"%name)\n",
    "    plt.plot(utils.moving_average(curve, 100), label=name)\n",
    "plt.grid()\n",
    "plt.legend()\n",
    "plt.ylabel(\"returns\")\n",
    "plt.xlabel(\"episodes\")\n",
    "plt.show()"
   ]
  },
  {
   "cell_type": "markdown",
   "metadata": {
    "deletable": true,
    "editable": true
   },
   "source": [
    "On this toy example, Adam (=SGD with fancy adaptive learning rate) does not seem to work. I tried to change the learning rate, without success."
   ]
  },
  {
   "cell_type": "markdown",
   "metadata": {
    "deletable": true,
    "editable": true
   },
   "source": [
    "### Target patience = 5 vs Target patience = 1"
   ]
  },
  {
   "cell_type": "markdown",
   "metadata": {
    "deletable": true,
    "editable": true
   },
   "source": [
    "#### Target patience = 1"
   ]
  },
  {
   "cell_type": "code",
   "execution_count": 65,
   "metadata": {
    "collapsed": false,
    "deletable": true,
    "editable": true
   },
   "outputs": [
    {
     "name": "stdout",
     "output_type": "stream",
     "text": [
      "\n"
     ]
    }
   ],
   "source": [
    "target_patience = 1\n",
    "# Environment\n",
    "environment = dqn.GridWorld(3, 3, 2, 1, T, gamma=gamma)\n",
    "# A neural net\n",
    "neuralnet = deepnets.CNN_3x3((3, 3, 3), 0.01, dueling=False, adam=False)\n",
    "targetnet = deepnets.CNN_3x3((3, 3, 3), 0.01, dueling=False, adam=False)\n",
    "# ExperienceReplay \n",
    "experience_replay = dqn.ExperienceReplay(environment.return_state().shape, 50*500)\n",
    "# Agent\n",
    "agent = dqn.DQNAgent(environment, neuralnet, experience_replay, batch_size, target_net=targetnet, \n",
    "                     target_net_patience=target_patience, epsilon=epsilon, gamma=gamma)"
   ]
  },
  {
   "cell_type": "code",
   "execution_count": null,
   "metadata": {
    "collapsed": false,
    "deletable": true,
    "editable": true
   },
   "outputs": [],
   "source": [
    "name = \"target_patience=1\"\n",
    "# Train for 75 epochs of 1000 updates\n",
    "agent.fit(1500, 100, max_q_size=10, savename=\"experiment_01/weights_%s.npy\"%name)\n",
    "# Save learning curve\n",
    "agent.save_curve(\"experiment_01/curve_%s.npy\"%name)"
   ]
  },
  {
   "cell_type": "markdown",
   "metadata": {
    "deletable": true,
    "editable": true
   },
   "source": [
    "#### Learning curve"
   ]
  },
  {
   "cell_type": "code",
   "execution_count": 35,
   "metadata": {
    "collapsed": false,
    "deletable": true,
    "editable": true
   },
   "outputs": [
    {
     "data": {
      "image/png": "[encoded data removed]",
      "text/plain": [
       "<matplotlib.figure.Figure at 0x279a03c8>"
      ]
     },
     "metadata": {},
     "output_type": "display_data"
    }
   ],
   "source": [
    "plt.figure()\n",
    "for name in [\"sgd\", \"target_patience=1\"]:\n",
    "    curve = np.load(\"experiment_01/curve_%s.npy\"%name)\n",
    "    plt.plot(utils.moving_average(curve, 100), label=name)\n",
    "plt.grid()\n",
    "plt.legend()\n",
    "plt.ylabel(\"returns\")\n",
    "plt.xlabel(\"episodes\")\n",
    "plt.show()"
   ]
  },
  {
   "cell_type": "markdown",
   "metadata": {
    "deletable": true,
    "editable": true
   },
   "source": [
    "Similar performance. I kept using target_patience = 1 in the following."
   ]
  },
  {
   "cell_type": "markdown",
   "metadata": {
    "deletable": true,
    "editable": true
   },
   "source": [
    "### Dueling vs No dueling"
   ]
  },
  {
   "cell_type": "markdown",
   "metadata": {
    "deletable": true,
    "editable": true
   },
   "source": [
    "*Dueling* refers to the decoupling of $Q$ into two estimators : one for the state-value function, one for the \"state-action dependent advantage\" function:\n",
    "\n",
    "$$Q(S,A) = V(S) + A(S, A)$$\n",
    "\n",
    "(see https://arxiv.org/abs/1511.06581)"
   ]
  },
  {
   "cell_type": "markdown",
   "metadata": {
    "deletable": true,
    "editable": true
   },
   "source": [
    "#### Dueling"
   ]
  },
  {
   "cell_type": "code",
   "execution_count": 71,
   "metadata": {
    "collapsed": false,
    "deletable": true,
    "editable": true
   },
   "outputs": [],
   "source": [
    "target_patience = 1\n",
    "# Environment\n",
    "environment = dqn.GridWorld(3, 3, 2, 1, T, gamma=gamma)\n",
    "# A neural net\n",
    "neuralnet = deepnets.CNN_3x3((3, 3, 3), 0.01, dueling=True, adam=False)\n",
    "targetnet = deepnets.CNN_3x3((3, 3, 3), 0.01, dueling=True, adam=False)\n",
    "# ExperienceReplay \n",
    "experience_replay = dqn.ExperienceReplay(environment.return_state().shape, 50*500)\n",
    "# Agent\n",
    "agent = dqn.DQNAgent(environment, neuralnet, experience_replay, batch_size, target_net=targetnet, \n",
    "                     target_net_patience=target_patience, epsilon=epsilon, gamma=gamma)"
   ]
  },
  {
   "cell_type": "code",
   "execution_count": 72,
   "metadata": {
    "collapsed": true,
    "deletable": true,
    "editable": true
   },
   "outputs": [
    {
     "name": "stdout",
     "output_type": "stream",
     "text": [
      "Episode 2999 - Running cum reward = 4.926 took 0.4s..                                                                                                                                                                                                                                                                                                                                                                                                                                                                                                                                                                                                                                                                                                                                                                                                                                                                                                                                                                                                                                                                                                                                                                                                                                                                                                                                                                                                                                                                                                                                                                                                                                                                                                                                                                                                                                                                                                                                                                                                                                                                                                                                                                                                                                                                                                                                                                                                                                                                                                                                                                                                                                                                                                                                                                                                                                                                                                                                                                                                                                                                                                                    \n"
     ]
    }
   ],
   "source": [
    "name = \"dueling\"\n",
    "# Train for 75 epochs of 1000 updates\n",
    "agent.fit(1500, 100, max_q_size=10, savename=\"experiment_01/weights_%s.npy\"%name)\n",
    "# Save learning curve\n",
    "agent.save_curve(\"experiment_01/curve_%s.npy\"%name)"
   ]
  },
  {
   "cell_type": "markdown",
   "metadata": {
    "deletable": true,
    "editable": true
   },
   "source": [
    "#### Learning curve"
   ]
  },
  {
   "cell_type": "code",
   "execution_count": 36,
   "metadata": {
    "collapsed": false,
    "deletable": true,
    "editable": true
   },
   "outputs": [
    {
     "data": {
      "image/png": "[encoded data removed]",
      "text/plain": [
       "<matplotlib.figure.Figure at 0x27f31208>"
      ]
     },
     "metadata": {},
     "output_type": "display_data"
    }
   ],
   "source": [
    "plt.figure()\n",
    "for name in [\"target_patience=1\", \"dueling\"]:\n",
    "    curve = np.load(\"experiment_01/curve_%s.npy\"%name)\n",
    "    plt.plot(utils.moving_average(curve, 100), label=name)\n",
    "plt.grid()\n",
    "plt.legend()\n",
    "plt.ylabel(\"returns\")\n",
    "plt.xlabel(\"episodes\")\n",
    "plt.show()"
   ]
  },
  {
   "cell_type": "markdown",
   "metadata": {
    "deletable": true,
    "editable": true
   },
   "source": [
    "I did not use Dueling in the following"
   ]
  },
  {
   "cell_type": "markdown",
   "metadata": {
    "deletable": true,
    "editable": true
   },
   "source": [
    "### Demo after training"
   ]
  },
  {
   "cell_type": "code",
   "execution_count": 357,
   "metadata": {
    "collapsed": true,
    "deletable": true,
    "editable": true
   },
   "outputs": [],
   "source": [
    "dqn = reload(dqn)"
   ]
  },
  {
   "cell_type": "code",
   "execution_count": 358,
   "metadata": {
    "collapsed": true,
    "deletable": true,
    "editable": true
   },
   "outputs": [],
   "source": [
    "# Environment\n",
    "environment = dqn.GridWorld(3, 3, 2, 1, T, gamma=gamma)\n",
    "# A neural net\n",
    "neuralnet = deepnets.CNN_3x3((3, 3, 3), 0.01, dueling=False, adam=False)\n",
    "targetnet = deepnets.CNN_3x3((3, 3, 3), 0.01, dueling=False, adam=False)\n",
    "# ExperienceReplay \n",
    "experience_replay = dqn.ExperienceReplay(environment.return_state().shape, 50*500)\n",
    "# Agent\n",
    "agent = dqn.DQNAgent(environment, neuralnet, experience_replay, batch_size, target_net=targetnet, \n",
    "                     target_net_patience=target_patience, epsilon=epsilon, gamma=gamma)"
   ]
  },
  {
   "cell_type": "markdown",
   "metadata": {
    "deletable": true,
    "editable": true
   },
   "source": [
    "#### Load weights"
   ]
  },
  {
   "cell_type": "code",
   "execution_count": 359,
   "metadata": {
    "collapsed": true,
    "deletable": true,
    "editable": true
   },
   "outputs": [],
   "source": [
    "agent.load_weights(\"experiment_01/weights_sgd.npy\")"
   ]
  },
  {
   "cell_type": "markdown",
   "metadata": {
    "deletable": true,
    "editable": true
   },
   "source": [
    "#### Demo"
   ]
  },
  {
   "cell_type": "code",
   "execution_count": 497,
   "metadata": {
    "collapsed": false,
    "deletable": true,
    "editable": true,
    "scrolled": false
   },
   "outputs": [
    {
     "data": {
      "image/png": "[encoded data removed]",
      "text/plain": [
       "<matplotlib.figure.Figure at 0x392f6908>"
      ]
     },
     "metadata": {},
     "output_type": "display_data"
    }
   ],
   "source": [
    "agent.epsilon = 1.\n",
    "batch, target_batch =  agent.demo()"
   ]
  },
  {
   "cell_type": "markdown",
   "metadata": {
    "deletable": true,
    "editable": true
   },
   "source": [
    "# Experiment 02 - POMDP - A myopic agent"
   ]
  },
  {
   "cell_type": "markdown",
   "metadata": {
    "deletable": true,
    "editable": true
   },
   "source": [
    "Let's finally do one experiment with a POMDP.\n",
    "\n",
    "Here, I consider a 7x7 grid and a **myopic agent**: the agent only sees the 3x3 block of cells centered around its position. Let's compare a DQN and a DRQN on this task."
   ]
  },
  {
   "cell_type": "code",
   "execution_count": 4,
   "metadata": {
    "collapsed": false,
    "deletable": true,
    "editable": true,
    "scrolled": true
   },
   "outputs": [],
   "source": [
    "environment = dqn.GridWorld(7, 7, 5, 3, 50, observable=[3,3], gamma=gamma)"
   ]
  },
  {
   "cell_type": "code",
   "execution_count": 5,
   "metadata": {
    "collapsed": false,
    "deletable": true,
    "editable": true
   },
   "outputs": [
    {
     "data": {
      "image/png": "[encoded data removed]",
      "text/plain": [
       "<matplotlib.figure.Figure at 0x26f58a90>"
      ]
     },
     "metadata": {},
     "output_type": "display_data"
    }
   ],
   "source": [
    "environment.visualize()"
   ]
  },
  {
   "cell_type": "markdown",
   "metadata": {
    "deletable": true,
    "editable": true
   },
   "source": [
    "### Fixed params"
   ]
  },
  {
   "cell_type": "code",
   "execution_count": 4,
   "metadata": {
    "collapsed": true,
    "deletable": true,
    "editable": true
   },
   "outputs": [],
   "source": [
    "epsilon = 0.8\n",
    "gamma= 0.99\n",
    "batch_size = 32\n",
    "target_patience = 1\n",
    "buffer_size = 50*500"
   ]
  },
  {
   "cell_type": "markdown",
   "metadata": {
    "deletable": true,
    "editable": true
   },
   "source": [
    "### DQN"
   ]
  },
  {
   "cell_type": "markdown",
   "metadata": {
    "deletable": true,
    "editable": true
   },
   "source": [
    "Same neural net as before:"
   ]
  },
  {
   "cell_type": "code",
   "execution_count": 30,
   "metadata": {
    "collapsed": false,
    "deletable": true,
    "editable": true
   },
   "outputs": [
    {
     "name": "stdout",
     "output_type": "stream",
     "text": [
      "____________________________________________________________________________________________________\n",
      "Layer (type)                     Output Shape          Param #     Connected to                     \n",
      "====================================================================================================\n",
      "input_2 (InputLayer)             (None, 3, 3, 3)       0                                            \n",
      "____________________________________________________________________________________________________\n",
      "convolution2d_3 (Convolution2D)  (None, 16, 1, 1)      448         input_2[0][0]                    \n",
      "____________________________________________________________________________________________________\n",
      "activation_2 (Activation)        (None, 16, 1, 1)      0           convolution2d_3[0][0]            \n",
      "____________________________________________________________________________________________________\n",
      "convolution2d_4 (Convolution2D)  (None, 4, 1, 1)       68          activation_2[0][0]               \n",
      "____________________________________________________________________________________________________\n",
      "flatten_2 (Flatten)              (None, 4)             0           convolution2d_4[0][0]            \n",
      "====================================================================================================\n",
      "Total params: 516\n",
      "Trainable params: 516\n",
      "Non-trainable params: 0\n",
      "____________________________________________________________________________________________________\n"
     ]
    }
   ],
   "source": [
    "neuralnet = deepnets.CNN_3x3((3, 3, 3), 0.01, dueling=False, adam=False)\n",
    "neuralnet.summary()"
   ]
  },
  {
   "cell_type": "code",
   "execution_count": 7,
   "metadata": {
    "collapsed": false,
    "deletable": true,
    "editable": true,
    "scrolled": true
   },
   "outputs": [],
   "source": [
    "# Environment\n",
    "environment = dqn.GridWorld(7, 7, 5, 3, 50, observable=[3,3], gamma=gamma)\n",
    "# A neural net\n",
    "neuralnet = deepnets.CNN_3x3((3, 3, 3), 0.001, dueling=False, adam=True)\n",
    "targetnet = deepnets.CNN_3x3((3, 3, 3), 0.001, dueling=False, adam=True)\n",
    "# ExperienceReplay \n",
    "experience_replay = dqn.ExperienceReplay(environment.return_state().shape, buffer_size)\n",
    "# Agent\n",
    "agent = dqn.DQNAgent(environment, neuralnet, experience_replay, batch_size, target_net=targetnet, \n",
    "                     target_net_patience=target_patience, epsilon=epsilon, gamma=gamma)"
   ]
  },
  {
   "cell_type": "code",
   "execution_count": 8,
   "metadata": {
    "collapsed": false,
    "deletable": true,
    "editable": true
   },
   "outputs": [
    {
     "name": "stdout",
     "output_type": "stream",
     "text": [
      "Episode 0 - Running cum reward = -3.407 took 0.9s.\n",
      "Episode 10 - Running cum reward = -3.433 took 0.4s.\n",
      "Episode 20 - Running cum reward = -3.316 took 0.3s.\n",
      "Episode 30 - Running cum reward = -3.041 took 0.4s.\n",
      "Episode 40 - Running cum reward = -2.848 took 0.3s.\n",
      "Episode 50 - Running cum reward = -2.728 took 0.3s.\n",
      "Episode 60 - Running cum reward = -2.713 took 0.4s.\n",
      "Episode 70 - Running cum reward = -2.553 took 0.3s.\n",
      "Episode 80 - Running cum reward = -2.447 took 0.4s.\n",
      "Episode 90 - Running cum reward = -2.465 took 0.3s.\n",
      "Episode 100 - Running cum reward = -2.412 took 0.4s.\n",
      "Episode 110 - Running cum reward = -2.368 took 0.3s.\n",
      "Episode 120 - Running cum reward = -2.541 took 0.4s.\n",
      "Episode 130 - Running cum reward = -2.467 took 0.4s.\n",
      "Episode 140 - Running cum reward = -2.246 took 0.4s.\n",
      "Episode 150 - Running cum reward = -2.228 took 0.4s.\n",
      "Episode 160 - Running cum reward = -2.036 took 0.3s.\n",
      "Episode 170 - Running cum reward = -2.034 took 0.4s.\n",
      "Episode 180 - Running cum reward = -1.959 took 0.4s.\n",
      "Episode 190 - Running cum reward = -2.187 took 0.4s.\n",
      "Episode 200 - Running cum reward = -2.298 took 0.3s.\n",
      "Episode 210 - Running cum reward = -2.241 took 0.4s.\n",
      "Episode 220 - Running cum reward = -2.279 took 0.3s.\n",
      "Episode 230 - Running cum reward = -2.329 took 0.4s.\n",
      "Episode 240 - Running cum reward = -2.250 took 0.4s.\n",
      "Episode 250 - Running cum reward = -2.333 took 0.4s.\n",
      "Episode 260 - Running cum reward = -2.369 took 0.3s.\n",
      "Episode 270 - Running cum reward = -2.272 took 0.4s.\n",
      "Episode 280 - Running cum reward = -2.266 took 0.4s.\n",
      "Episode 290 - Running cum reward = -2.257 took 0.4s.\n",
      "Episode 300 - Running cum reward = -2.211 took 0.4s.\n",
      "Episode 310 - Running cum reward = -2.217 took 0.4s.\n",
      "Episode 320 - Running cum reward = -2.043 took 0.4s.\n",
      "Episode 330 - Running cum reward = -2.066 took 0.4s.\n",
      "Episode 340 - Running cum reward = -1.984 took 0.3s.\n",
      "Episode 350 - Running cum reward = -2.060 took 0.3s.\n",
      "Episode 360 - Running cum reward = -2.143 took 0.3s.\n",
      "Episode 370 - Running cum reward = -2.199 took 0.3s.\n",
      "Episode 380 - Running cum reward = -2.161 took 0.4s.\n",
      "Episode 390 - Running cum reward = -2.256 took 0.3s.\n",
      "Episode 400 - Running cum reward = -2.135 took 0.3s.\n",
      "Episode 410 - Running cum reward = -2.164 took 0.4s.\n",
      "Episode 420 - Running cum reward = -2.190 took 0.4s.\n",
      "Episode 430 - Running cum reward = -2.172 took 0.3s.\n",
      "Episode 440 - Running cum reward = -2.206 took 0.4s.\n",
      "Episode 450 - Running cum reward = -2.173 took 0.3s.\n",
      "Episode 460 - Running cum reward = -2.157 took 0.4s.\n",
      "Episode 470 - Running cum reward = -2.210 took 0.4s.\n",
      "Episode 480 - Running cum reward = -2.206 took 0.4s.\n",
      "Episode 490 - Running cum reward = -2.139 took 0.3s.\n",
      "Episode 500 - Running cum reward = -1.969 took 0.4s.\n",
      "Episode 510 - Running cum reward = -1.904 took 0.4s.\n",
      "Episode 520 - Running cum reward = -1.881 took 0.4s.\n",
      "Episode 530 - Running cum reward = -1.865 took 0.3s.\n",
      "Episode 540 - Running cum reward = -1.970 took 0.4s.\n",
      "Episode 550 - Running cum reward = -2.119 took 0.4s.\n",
      "Episode 560 - Running cum reward = -2.121 took 0.4s.\n",
      "Episode 570 - Running cum reward = -2.070 took 0.3s.\n",
      "Episode 580 - Running cum reward = -2.242 took 0.3s.\n",
      "Episode 590 - Running cum reward = -2.121 took 0.3s.\n",
      "Episode 600 - Running cum reward = -2.122 took 0.4s.\n",
      "Episode 610 - Running cum reward = -2.286 took 0.3s.\n",
      "Episode 620 - Running cum reward = -2.117 took 0.4s.\n",
      "Episode 630 - Running cum reward = -2.232 took 0.3s.\n",
      "Episode 640 - Running cum reward = -2.171 took 0.4s.\n",
      "Episode 650 - Running cum reward = -2.203 took 0.3s.\n",
      "Episode 660 - Running cum reward = -2.159 took 0.3s.\n",
      "Episode 670 - Running cum reward = -2.123 took 0.4s.\n",
      "Episode 680 - Running cum reward = -2.105 took 0.3s.\n",
      "Episode 690 - Running cum reward = -2.190 took 0.4s.\n",
      "Episode 700 - Running cum reward = -2.266 took 0.3s.\n",
      "Episode 710 - Running cum reward = -2.198 took 0.3s.\n",
      "Episode 720 - Running cum reward = -2.183 took 0.3s.\n",
      "Episode 730 - Running cum reward = -2.153 took 0.3s.\n",
      "Episode 740 - Running cum reward = -2.201 took 0.3s.\n",
      "Episode 750 - Running cum reward = -2.058 took 0.4s.\n",
      "Episode 760 - Running cum reward = -2.184 took 0.4s.\n",
      "Episode 770 - Running cum reward = -2.210 took 0.4s.\n",
      "Episode 780 - Running cum reward = -2.145 took 0.3s.\n",
      "Episode 790 - Running cum reward = -2.052 took 0.3s.\n",
      "Episode 800 - Running cum reward = -2.045 took 0.4s.\n",
      "Episode 810 - Running cum reward = -2.118 took 0.4s.\n",
      "Episode 820 - Running cum reward = -2.026 took 0.4s.\n",
      "Episode 830 - Running cum reward = -1.984 took 0.3s.\n",
      "Episode 840 - Running cum reward = -2.016 took 0.4s.\n",
      "Episode 850 - Running cum reward = -2.122 took 0.3s.\n",
      "Episode 860 - Running cum reward = -2.152 took 0.4s.\n",
      "Episode 870 - Running cum reward = -2.228 took 0.4s.\n",
      "Episode 880 - Running cum reward = -2.267 took 0.4s.\n",
      "Episode 890 - Running cum reward = -2.374 took 0.4s.\n",
      "Episode 900 - Running cum reward = -2.307 took 0.3s.\n",
      "Episode 910 - Running cum reward = -2.244 took 0.3s.\n",
      "Episode 920 - Running cum reward = -2.336 took 0.4s.\n",
      "Episode 930 - Running cum reward = -2.285 took 0.3s.\n",
      "Episode 940 - Running cum reward = -2.243 took 0.4s.\n",
      "Episode 950 - Running cum reward = -2.255 took 0.4s.\n",
      "Episode 960 - Running cum reward = -2.209 took 0.4s.\n",
      "Episode 970 - Running cum reward = -2.237 took 0.3s.\n",
      "Episode 980 - Running cum reward = -2.241 took 0.3s.\n",
      "Episode 990 - Running cum reward = -2.232 took 0.3s.\n",
      "Episode 1000 - Running cum reward = -2.290 took 0.3s.\n",
      "Episode 1010 - Running cum reward = -2.304 took 0.3s.\n",
      "Episode 1020 - Running cum reward = -2.223 took 0.4s.\n",
      "Episode 1030 - Running cum reward = -2.153 took 0.3s.\n",
      "Episode 1040 - Running cum reward = -2.097 took 0.4s.\n",
      "Episode 1050 - Running cum reward = -2.104 took 0.3s.\n",
      "Episode 1060 - Running cum reward = -1.992 took 0.4s.\n",
      "Episode 1070 - Running cum reward = -2.061 took 0.3s.\n",
      "Episode 1080 - Running cum reward = -2.098 took 0.3s.\n",
      "Episode 1090 - Running cum reward = -2.070 took 0.4s.\n",
      "Episode 1100 - Running cum reward = -2.210 took 0.4s.\n",
      "Episode 1110 - Running cum reward = -2.376 took 0.4s.\n",
      "Episode 1120 - Running cum reward = -2.300 took 0.3s.\n",
      "Episode 1130 - Running cum reward = -2.250 took 0.3s.\n",
      "Episode 1140 - Running cum reward = -2.298 took 0.4s.\n",
      "Episode 1150 - Running cum reward = -2.262 took 0.4s.\n",
      "Episode 1160 - Running cum reward = -2.109 took 0.4s.\n",
      "Episode 1170 - Running cum reward = -2.211 took 0.4s.\n",
      "Episode 1180 - Running cum reward = -2.161 took 0.4s.\n",
      "Episode 1190 - Running cum reward = -2.053 took 0.3s.\n",
      "Episode 1200 - Running cum reward = -2.120 took 0.3s.\n",
      "Episode 1210 - Running cum reward = -2.164 took 0.4s.\n",
      "Episode 1220 - Running cum reward = -2.068 took 0.3s.\n",
      "Episode 1230 - Running cum reward = -2.262 took 0.4s.\n",
      "Episode 1240 - Running cum reward = -2.336 took 0.4s.\n",
      "Episode 1250 - Running cum reward = -2.334 took 0.4s.\n",
      "Episode 1260 - Running cum reward = -2.321 took 0.4s.\n",
      "Episode 1270 - Running cum reward = -2.236 took 0.4s.\n",
      "Episode 1280 - Running cum reward = -2.065 took 0.3s.\n",
      "Episode 1290 - Running cum reward = -2.006 took 0.3s.\n",
      "Episode 1300 - Running cum reward = -1.974 took 0.4s.\n",
      "Episode 1310 - Running cum reward = -1.967 took 0.3s.\n",
      "Episode 1320 - Running cum reward = -2.027 took 0.4s.\n",
      "Episode 1330 - Running cum reward = -2.062 took 0.3s.\n",
      "Episode 1340 - Running cum reward = -2.219 took 0.4s.\n",
      "Episode 1350 - Running cum reward = -2.276 took 0.3s.\n",
      "Episode 1360 - Running cum reward = -2.304 took 0.4s.\n",
      "Episode 1370 - Running cum reward = -2.338 took 0.4s.\n",
      "Episode 1380 - Running cum reward = -2.293 took 0.3s.\n",
      "Episode 1390 - Running cum reward = -2.362 took 0.4s.\n",
      "Episode 1400 - Running cum reward = -2.408 took 0.3s.\n",
      "Episode 1410 - Running cum reward = -2.280 took 0.3s.\n",
      "Episode 1420 - Running cum reward = -2.329 took 0.4s.\n",
      "Episode 1430 - Running cum reward = -2.153 took 0.4s.\n",
      "Episode 1440 - Running cum reward = -2.201 took 0.4s.\n",
      "Episode 1450 - Running cum reward = -2.218 took 0.5s.\n",
      "Episode 1460 - Running cum reward = -2.182 took 0.4s.\n",
      "Episode 1470 - Running cum reward = -2.165 took 0.4s.\n",
      "Episode 1480 - Running cum reward = -1.875 took 0.4s.\n",
      "Episode 1490 - Running cum reward = -1.938 took 0.4s.\n",
      "Episode 1500 - Running cum reward = -1.923 took 0.3s.\n",
      "Episode 1510 - Running cum reward = -1.993 took 0.4s.\n",
      "Episode 1520 - Running cum reward = -2.052 took 0.3s.\n",
      "Episode 1530 - Running cum reward = -2.199 took 0.3s.\n",
      "Episode 1540 - Running cum reward = -2.111 took 0.3s.\n",
      "Episode 1550 - Running cum reward = -2.045 took 0.3s.\n",
      "Episode 1560 - Running cum reward = -1.934 took 0.3s.\n",
      "Episode 1570 - Running cum reward = -1.983 took 0.3s.\n",
      "Episode 1580 - Running cum reward = -2.075 took 0.4s.\n",
      "Episode 1590 - Running cum reward = -2.047 took 0.3s.\n",
      "Episode 1600 - Running cum reward = -2.115 took 0.4s.\n",
      "Episode 1610 - Running cum reward = -2.039 took 0.4s.\n",
      "Episode 1620 - Running cum reward = -1.910 took 0.4s.\n",
      "Episode 1630 - Running cum reward = -1.899 took 0.4s.\n",
      "Episode 1640 - Running cum reward = -1.969 took 0.3s.\n",
      "Episode 1650 - Running cum reward = -1.955 took 0.4s.\n",
      "Episode 1660 - Running cum reward = -1.778 took 0.4s.\n",
      "Episode 1670 - Running cum reward = -1.836 took 0.3s.\n",
      "Episode 1680 - Running cum reward = -1.934 took 0.5s.\n",
      "Episode 1690 - Running cum reward = -2.060 took 0.3s.\n",
      "Episode 1700 - Running cum reward = -2.171 took 0.4s.\n",
      "Episode 1710 - Running cum reward = -2.193 took 0.4s.\n",
      "Episode 1720 - Running cum reward = -2.019 took 0.4s.\n",
      "Episode 1730 - Running cum reward = -2.196 took 0.5s.\n",
      "Episode 1740 - Running cum reward = -2.184 took 0.4s.\n",
      "Episode 1750 - Running cum reward = -2.081 took 0.3s.\n",
      "Episode 1760 - Running cum reward = -2.145 took 0.4s.\n",
      "Episode 1770 - Running cum reward = -2.174 took 0.3s.\n",
      "Episode 1780 - Running cum reward = -2.114 took 0.4s.\n",
      "Episode 1790 - Running cum reward = -2.120 took 0.5s.\n",
      "Episode 1800 - Running cum reward = -2.070 took 0.4s.\n",
      "Episode 1810 - Running cum reward = -2.124 took 0.4s.\n",
      "Episode 1820 - Running cum reward = -2.053 took 0.3s.\n",
      "Episode 1830 - Running cum reward = -2.203 took 0.4s.\n",
      "Episode 1840 - Running cum reward = -2.178 took 0.4s.\n",
      "Episode 1850 - Running cum reward = -2.178 took 0.4s.\n",
      "Episode 1860 - Running cum reward = -2.173 took 0.3s.\n",
      "Episode 1870 - Running cum reward = -2.086 took 0.3s.\n",
      "Episode 1880 - Running cum reward = -2.109 took 0.3s.\n",
      "Episode 1890 - Running cum reward = -1.964 took 0.3s.\n",
      "Episode 1900 - Running cum reward = -2.094 took 0.3s.\n",
      "Episode 1910 - Running cum reward = -2.034 took 0.3s.\n",
      "Episode 1920 - Running cum reward = -1.837 took 0.3s.\n",
      "Episode 1930 - Running cum reward = -1.935 took 0.3s.\n",
      "Episode 1940 - Running cum reward = -1.987 took 0.4s.\n",
      "Episode 1950 - Running cum reward = -1.934 took 0.3s.\n",
      "Episode 1960 - Running cum reward = -1.992 took 0.3s.\n",
      "Episode 1970 - Running cum reward = -1.846 took 0.3s.\n",
      "Episode 1980 - Running cum reward = -1.748 took 0.3s.\n",
      "Episode 1990 - Running cum reward = -1.746 took 0.3s.\n",
      "Episode 2000 - Running cum reward = -1.807 took 0.4s.\n",
      "Episode 2010 - Running cum reward = -1.935 took 0.3s.\n",
      "Episode 2020 - Running cum reward = -1.656 took 0.4s.\n",
      "Episode 2030 - Running cum reward = -1.716 took 0.5s.\n",
      "Episode 2040 - Running cum reward = -1.807 took 0.4s.\n",
      "Episode 2050 - Running cum reward = -1.864 took 0.3s.\n",
      "Episode 2060 - Running cum reward = -1.912 took 0.3s.\n",
      "Episode 2070 - Running cum reward = -1.836 took 0.3s.\n",
      "Episode 2080 - Running cum reward = -1.902 took 0.4s.\n",
      "Episode 2090 - Running cum reward = -2.153 took 0.4s.\n",
      "Episode 2100 - Running cum reward = -2.114 took 0.4s.\n",
      "Episode 2110 - Running cum reward = -2.118 took 0.4s.\n",
      "Episode 2120 - Running cum reward = -2.016 took 0.3s.\n",
      "Episode 2130 - Running cum reward = -2.048 took 0.3s.\n",
      "Episode 2140 - Running cum reward = -2.085 took 0.3s.\n",
      "Episode 2150 - Running cum reward = -1.974 took 0.4s.\n",
      "Episode 2160 - Running cum reward = -2.027 took 0.4s.\n",
      "Episode 2170 - Running cum reward = -2.140 took 0.4s.\n",
      "Episode 2180 - Running cum reward = -2.263 took 0.4s.\n",
      "Episode 2190 - Running cum reward = -2.229 took 0.3s.\n",
      "Episode 2200 - Running cum reward = -2.158 took 0.4s.\n",
      "Episode 2210 - Running cum reward = -2.285 took 0.4s.\n",
      "Episode 2220 - Running cum reward = -2.034 took 0.4s.\n",
      "Episode 2230 - Running cum reward = -2.071 took 0.4s.\n",
      "Episode 2240 - Running cum reward = -2.030 took 0.4s.\n",
      "Episode 2250 - Running cum reward = -2.118 took 0.4s.\n",
      "Episode 2260 - Running cum reward = -2.047 took 0.4s.\n",
      "Episode 2270 - Running cum reward = -2.211 took 0.5s.\n",
      "Episode 2280 - Running cum reward = -2.140 took 0.4s.\n",
      "Episode 2290 - Running cum reward = -2.072 took 0.4s.\n",
      "Episode 2300 - Running cum reward = -2.186 took 0.3s.\n",
      "Episode 2310 - Running cum reward = -2.207 took 0.4s.\n",
      "Episode 2320 - Running cum reward = -2.296 took 0.4s.\n",
      "Episode 2330 - Running cum reward = -2.311 took 0.4s.\n",
      "Episode 2340 - Running cum reward = -2.086 took 0.3s.\n",
      "Episode 2350 - Running cum reward = -2.057 took 0.4s.\n",
      "Episode 2360 - Running cum reward = -2.103 took 0.4s.\n",
      "Episode 2370 - Running cum reward = -2.213 took 0.4s.\n",
      "Episode 2380 - Running cum reward = -2.210 took 0.4s.\n",
      "Episode 2390 - Running cum reward = -2.192 took 0.4s.\n",
      "Episode 2400 - Running cum reward = -1.959 took 0.4s.\n",
      "Episode 2410 - Running cum reward = -1.957 took 0.4s.\n",
      "Episode 2420 - Running cum reward = -1.857 took 0.4s.\n",
      "Episode 2430 - Running cum reward = -2.069 took 0.4s.\n",
      "Episode 2440 - Running cum reward = -2.227 took 0.4s.\n",
      "Episode 2450 - Running cum reward = -2.264 took 0.3s.\n",
      "Episode 2460 - Running cum reward = -2.151 took 0.3s.\n",
      "Episode 2470 - Running cum reward = -2.184 took 0.4s.\n",
      "Episode 2480 - Running cum reward = -2.089 took 0.3s.\n",
      "Episode 2490 - Running cum reward = -2.100 took 0.4s.\n",
      "Episode 2500 - Running cum reward = -1.963 took 0.4s.\n",
      "Episode 2510 - Running cum reward = -2.043 took 0.3s.\n",
      "Episode 2520 - Running cum reward = -2.091 took 0.3s.\n",
      "Episode 2530 - Running cum reward = -1.906 took 0.4s.\n",
      "Episode 2540 - Running cum reward = -1.992 took 0.3s.\n",
      "Episode 2550 - Running cum reward = -2.059 took 0.4s.\n",
      "Episode 2560 - Running cum reward = -2.243 took 0.4s.\n",
      "Episode 2570 - Running cum reward = -2.205 took 0.4s.\n",
      "Episode 2580 - Running cum reward = -2.278 took 0.4s.\n",
      "Episode 2590 - Running cum reward = -2.309 took 0.3s.\n",
      "Episode 2600 - Running cum reward = -2.170 took 0.4s.\n",
      "Episode 2610 - Running cum reward = -2.088 took 0.4s.\n",
      "Episode 2620 - Running cum reward = -2.059 took 0.4s.\n",
      "Episode 2630 - Running cum reward = -1.995 took 0.4s.\n",
      "Episode 2640 - Running cum reward = -2.043 took 0.4s.\n",
      "Episode 2650 - Running cum reward = -2.031 took 0.4s.\n",
      "Episode 2660 - Running cum reward = -2.050 took 0.4s.\n",
      "Episode 2670 - Running cum reward = -1.940 took 0.4s.\n",
      "Episode 2680 - Running cum reward = -2.036 took 0.3s.\n",
      "Episode 2690 - Running cum reward = -2.251 took 0.3s.\n",
      "Episode 2700 - Running cum reward = -2.173 took 0.3s.\n",
      "Episode 2710 - Running cum reward = -2.104 took 0.4s.\n",
      "Episode 2720 - Running cum reward = -2.098 took 0.3s.\n",
      "Episode 2730 - Running cum reward = -2.052 took 0.3s.\n",
      "Episode 2740 - Running cum reward = -2.227 took 0.4s.\n",
      "Episode 2750 - Running cum reward = -2.226 took 0.3s.\n",
      "Episode 2760 - Running cum reward = -2.149 took 0.4s.\n",
      "Episode 2770 - Running cum reward = -2.137 took 0.4s.\n",
      "Episode 2780 - Running cum reward = -2.051 took 0.3s.\n",
      "Episode 2790 - Running cum reward = -1.855 took 0.3s.\n",
      "Episode 2800 - Running cum reward = -1.897 took 0.4s.\n",
      "Episode 2810 - Running cum reward = -1.935 took 0.3s.\n",
      "Episode 2820 - Running cum reward = -1.945 took 0.4s.\n",
      "Episode 2830 - Running cum reward = -1.920 took 0.4s.\n",
      "Episode 2840 - Running cum reward = -1.716 took 0.4s.\n",
      "Episode 2850 - Running cum reward = -1.573 took 0.3s.\n",
      "Episode 2860 - Running cum reward = -1.671 took 0.3s.\n",
      "Episode 2870 - Running cum reward = -1.716 took 0.3s.\n",
      "Episode 2880 - Running cum reward = -1.892 took 0.3s.\n",
      "Episode 2890 - Running cum reward = -1.874 took 0.4s.\n",
      "Episode 2900 - Running cum reward = -1.963 took 0.3s.\n",
      "Episode 2910 - Running cum reward = -2.045 took 0.3s.\n",
      "Episode 2920 - Running cum reward = -2.176 took 0.4s.\n",
      "Episode 2930 - Running cum reward = -2.066 took 0.3s.\n",
      "Episode 2940 - Running cum reward = -2.219 took 0.4s.\n",
      "Episode 2950 - Running cum reward = -2.244 took 0.4s.\n",
      "Episode 2960 - Running cum reward = -2.166 took 0.4s.\n",
      "Episode 2970 - Running cum reward = -2.170 took 0.4s.\n",
      "Episode 2980 - Running cum reward = -2.160 took 0.4s.\n",
      "Episode 2990 - Running cum reward = -2.186 took 0.4s.\n"
     ]
    }
   ],
   "source": [
    "name = \"DQN_v2\"\n",
    "# Train for 100 epochs of 1500 updates\n",
    "agent.fit(1500, 100, max_q_size=10, savename=\"experiment_02/weights_%s.npy\"%name)\n",
    "# Save learning curve\n",
    "agent.save_curve(\"experiment_02/curve_%s.npy\"%name)"
   ]
  },
  {
   "cell_type": "markdown",
   "metadata": {
    "deletable": true,
    "editable": true
   },
   "source": [
    "### DRQN"
   ]
  },
  {
   "cell_type": "markdown",
   "metadata": {
    "deletable": true,
    "editable": true
   },
   "source": [
    "Our recurrent net: 1 LSTM layer + Output layer"
   ]
  },
  {
   "cell_type": "code",
   "execution_count": 153,
   "metadata": {
    "collapsed": false,
    "deletable": true,
    "editable": true,
    "scrolled": true
   },
   "outputs": [
    {
     "name": "stdout",
     "output_type": "stream",
     "text": [
      "____________________________________________________________________________________________________\n",
      "Layer (type)                     Output Shape          Param #     Connected to                     \n",
      "====================================================================================================\n",
      "input_1 (InputLayer)             (32, 1, 27)           0                                            \n",
      "____________________________________________________________________________________________________\n",
      "lstm_1 (LSTM)                    (32, 1, 16)           2816        input_1[0][0]                    \n",
      "____________________________________________________________________________________________________\n",
      "timedistributed_1 (TimeDistribut (32, 1, 4)            68          lstm_1[0][0]                     \n",
      "====================================================================================================\n",
      "Total params: 2,884\n",
      "Trainable params: 2,884\n",
      "Non-trainable params: 0\n",
      "____________________________________________________________________________________________________\n"
     ]
    }
   ],
   "source": [
    "neuralnet = deepnets.RCNN_3x3((batch_size, 1, 27), 0.01)\n",
    "neuralnet.summary()"
   ]
  },
  {
   "cell_type": "code",
   "execution_count": 193,
   "metadata": {
    "collapsed": false,
    "deletable": true,
    "editable": true
   },
   "outputs": [],
   "source": [
    "dqn = reload(dqn)"
   ]
  },
  {
   "cell_type": "code",
   "execution_count": 194,
   "metadata": {
    "collapsed": false,
    "deletable": true,
    "editable": true
   },
   "outputs": [],
   "source": [
    "rec_depth = 50\n",
    "# Environment\n",
    "environment = dqn.GridWorld(7, 7, 5, 3, 50, observable=[3,3], gamma=gamma)\n",
    "# A neural net\n",
    "neuralnet = deepnets.stateful_RCNN_3x3((batch_size, 1, 27), 0.01)\n",
    "neuralnet_copy = deepnets.stateful_RCNN_3x3((batch_size, 1, 27), 0.01)\n",
    "targetnet = deepnets.stateful_RCNN_3x3((batch_size, 1, 27), 0.01)\n",
    "# ExperienceReplay \n",
    "experience_replay = dqn.TemporalExperienceReplay(rec_depth, environment.return_state().shape, buffer_size)\n",
    "# Agent\n",
    "agent = dqn.StatefulRDQNAgent(environment, neuralnet, neuralnet_copy, experience_replay, batch_size, target_net=targetnet, \n",
    "                     target_net_patience=target_patience, epsilon=epsilon, gamma=gamma)"
   ]
  },
  {
   "cell_type": "code",
   "execution_count": null,
   "metadata": {
    "collapsed": false,
    "deletable": true,
    "editable": true
   },
   "outputs": [],
   "source": [
    "name = \"DRQN\"\n",
    "# Train for 100 epochs of 1500 updates\n",
    "agent.fit(1500, 100, max_q_size=10, savename=\"experiment_02/weights_%s.npy\"%name)\n",
    "# Save learning curve\n",
    "agent.save_curve(\"experiment_02/curve_%s.npy\"%name)"
   ]
  },
  {
   "cell_type": "markdown",
   "metadata": {
    "deletable": true,
    "editable": true
   },
   "source": [
    "**Note**: I'm pretty sure that my DRQN implementation is not optimal in terms of speed... $10\\times$ slower in comparison with my DQN code. I'll investigate this."
   ]
  },
  {
   "cell_type": "markdown",
   "metadata": {},
   "source": [
    "### Stack DQN"
   ]
  },
  {
   "cell_type": "code",
   "execution_count": 9,
   "metadata": {
    "collapsed": false
   },
   "outputs": [
    {
     "name": "stdout",
     "output_type": "stream",
     "text": [
      "Episode 0 - Running cum reward = -3.021 took 1.0s.\n",
      "Episode 10 - Running cum reward = -3.129 took 0.5s.\n",
      "Episode 20 - Running cum reward = -3.150 took 0.4s.\n",
      "Episode 30 - Running cum reward = -3.151 took 0.4s.\n",
      "Episode 40 - Running cum reward = -2.831 took 0.4s.\n",
      "Episode 50 - Running cum reward = -2.697 took 0.4s.\n",
      "Episode 60 - Running cum reward = -2.479 took 0.5s.\n",
      "Episode 70 - Running cum reward = -2.422 took 0.5s.\n",
      "Episode 80 - Running cum reward = -2.475 took 0.4s.\n",
      "Episode 90 - Running cum reward = -2.381 took 0.4s.\n",
      "Episode 100 - Running cum reward = -2.448 took 0.5s.\n",
      "Episode 110 - Running cum reward = -2.311 took 0.4s.\n",
      "Episode 120 - Running cum reward = -2.163 took 0.4s.\n",
      "Episode 130 - Running cum reward = -2.073 took 0.4s.\n",
      "Episode 140 - Running cum reward = -2.022 took 0.4s.\n",
      "Episode 150 - Running cum reward = -2.152 took 0.4s.\n",
      "Episode 160 - Running cum reward = -2.166 took 0.4s.\n",
      "Episode 170 - Running cum reward = -2.204 took 0.4s.\n",
      "Episode 180 - Running cum reward = -2.185 took 0.4s.\n",
      "Episode 190 - Running cum reward = -2.186 took 0.4s.\n",
      "Episode 200 - Running cum reward = -2.154 took 0.4s.\n",
      "Episode 210 - Running cum reward = -2.021 took 0.4s.\n",
      "Episode 220 - Running cum reward = -2.071 took 0.4s.\n",
      "Episode 230 - Running cum reward = -2.191 took 0.4s.\n",
      "Episode 240 - Running cum reward = -2.231 took 0.4s.\n",
      "Episode 250 - Running cum reward = -2.350 took 0.5s.\n",
      "Episode 260 - Running cum reward = -2.416 took 0.4s.\n",
      "Episode 270 - Running cum reward = -2.341 took 0.4s.\n",
      "Episode 280 - Running cum reward = -2.323 took 0.4s.\n",
      "Episode 290 - Running cum reward = -2.245 took 0.4s.\n",
      "Episode 300 - Running cum reward = -2.120 took 0.4s.\n",
      "Episode 310 - Running cum reward = -2.035 took 0.4s.\n",
      "Episode 320 - Running cum reward = -2.273 took 0.4s.\n",
      "Episode 330 - Running cum reward = -2.357 took 0.4s.\n",
      "Episode 340 - Running cum reward = -2.376 took 0.4s.\n",
      "Episode 350 - Running cum reward = -2.379 took 0.4s.\n",
      "Episode 360 - Running cum reward = -2.396 took 0.4s.\n",
      "Episode 370 - Running cum reward = -2.498 took 0.4s.\n",
      "Episode 380 - Running cum reward = -2.484 took 0.4s.\n",
      "Episode 390 - Running cum reward = -2.614 took 0.4s.\n",
      "Episode 400 - Running cum reward = -2.679 took 0.4s.\n",
      "Episode 410 - Running cum reward = -2.792 took 0.4s.\n",
      "Episode 420 - Running cum reward = -2.765 took 0.4s.\n",
      "Episode 430 - Running cum reward = -2.681 took 0.4s.\n",
      "Episode 440 - Running cum reward = -2.711 took 0.4s.\n",
      "Episode 450 - Running cum reward = -2.759 took 0.4s.\n",
      "Episode 460 - Running cum reward = -2.767 took 0.4s.\n",
      "Episode 470 - Running cum reward = -2.633 took 0.4s.\n",
      "Episode 480 - Running cum reward = -2.534 took 0.4s.\n",
      "Episode 490 - Running cum reward = -2.755 took 0.5s.\n",
      "Episode 500 - Running cum reward = -2.665 took 0.4s.\n",
      "Episode 510 - Running cum reward = -2.649 took 0.4s.\n",
      "Episode 520 - Running cum reward = -2.618 took 0.4s.\n",
      "Episode 530 - Running cum reward = -2.514 took 0.4s.\n",
      "Episode 540 - Running cum reward = -2.596 took 0.4s.\n",
      "Episode 550 - Running cum reward = -2.717 took 0.4s.\n",
      "Episode 560 - Running cum reward = -2.689 took 0.4s.\n",
      "Episode 570 - Running cum reward = -2.727 took 0.4s.\n",
      "Episode 580 - Running cum reward = -2.638 took 0.4s.\n",
      "Episode 590 - Running cum reward = -2.545 took 0.4s.\n",
      "Episode 600 - Running cum reward = -2.649 took 0.4s.\n",
      "Episode 610 - Running cum reward = -2.610 took 0.4s.\n",
      "Episode 620 - Running cum reward = -2.674 took 0.4s.\n",
      "Episode 630 - Running cum reward = -2.655 took 0.4s.\n",
      "Episode 640 - Running cum reward = -2.630 took 0.4s.\n",
      "Episode 650 - Running cum reward = -2.672 took 0.4s.\n",
      "Episode 660 - Running cum reward = -2.571 took 0.4s.\n",
      "Episode 670 - Running cum reward = -2.788 took 0.4s.\n",
      "Episode 680 - Running cum reward = -2.759 took 0.4s.\n",
      "Episode 690 - Running cum reward = -2.740 took 0.4s.\n",
      "Episode 700 - Running cum reward = -2.721 took 0.4s.\n",
      "Episode 710 - Running cum reward = -2.573 took 0.4s.\n",
      "Episode 720 - Running cum reward = -2.770 took 0.4s.\n",
      "Episode 730 - Running cum reward = -2.822 took 0.4s.\n",
      "Episode 740 - Running cum reward = -2.722 took 0.4s.\n",
      "Episode 750 - Running cum reward = -2.789 took 0.5s.\n",
      "Episode 760 - Running cum reward = -2.688 took 0.4s.\n",
      "Episode 770 - Running cum reward = -2.731 took 0.4s.\n",
      "Episode 780 - Running cum reward = -2.658 took 0.4s.\n",
      "Episode 790 - Running cum reward = -2.472 took 0.4s.\n",
      "Episode 800 - Running cum reward = -2.435 took 0.4s.\n",
      "Episode 810 - Running cum reward = -2.371 took 0.4s.\n",
      "Episode 820 - Running cum reward = -2.275 took 0.4s.\n",
      "Episode 830 - Running cum reward = -2.361 took 0.4s.\n",
      "Episode 840 - Running cum reward = -2.433 took 0.4s.\n",
      "Episode 850 - Running cum reward = -2.438 took 0.4s.\n",
      "Episode 860 - Running cum reward = -2.399 took 0.4s.\n",
      "Episode 870 - Running cum reward = -2.573 took 0.5s.\n",
      "Episode 880 - Running cum reward = -2.486 took 0.5s.\n",
      "Episode 890 - Running cum reward = -2.533 took 0.5s.\n",
      "Episode 900 - Running cum reward = -2.470 took 0.4s.\n",
      "Episode 910 - Running cum reward = -2.491 took 0.4s.\n",
      "Episode 920 - Running cum reward = -2.329 took 0.5s.\n",
      "Episode 930 - Running cum reward = -2.315 took 0.4s.\n",
      "Episode 940 - Running cum reward = -2.367 took 0.4s.\n",
      "Episode 950 - Running cum reward = -2.527 took 0.5s.\n",
      "Episode 960 - Running cum reward = -2.536 took 0.4s.\n",
      "Episode 970 - Running cum reward = -2.698 took 0.5s.\n",
      "Episode 980 - Running cum reward = -2.606 took 0.5s.\n",
      "Episode 990 - Running cum reward = -2.655 took 0.4s.\n",
      "Episode 1000 - Running cum reward = -2.652 took 0.4s.\n",
      "Episode 1010 - Running cum reward = -2.658 took 0.4s.\n",
      "Episode 1020 - Running cum reward = -2.550 took 0.6s.\n",
      "Episode 1030 - Running cum reward = -2.482 took 0.5s.\n",
      "Episode 1040 - Running cum reward = -2.467 took 0.4s.\n",
      "Episode 1050 - Running cum reward = -2.290 took 0.5s.\n",
      "Episode 1060 - Running cum reward = -2.347 took 0.5s.\n",
      "Episode 1070 - Running cum reward = -2.320 took 0.5s.\n",
      "Episode 1080 - Running cum reward = -2.364 took 0.4s.\n",
      "Episode 1090 - Running cum reward = -2.413 took 0.4s.\n",
      "Episode 1100 - Running cum reward = -2.444 took 0.5s.\n",
      "Episode 1110 - Running cum reward = -2.508 took 0.5s.\n",
      "Episode 1120 - Running cum reward = -2.580 took 0.5s.\n",
      "Episode 1130 - Running cum reward = -2.524 took 0.5s.\n",
      "Episode 1140 - Running cum reward = -2.644 took 0.5s.\n",
      "Episode 1150 - Running cum reward = -2.554 took 0.4s.\n",
      "Episode 1160 - Running cum reward = -2.533 took 0.5s.\n",
      "Episode 1170 - Running cum reward = -2.438 took 0.4s.\n",
      "Episode 1180 - Running cum reward = -2.426 took 0.4s.\n",
      "Episode 1190 - Running cum reward = -2.237 took 0.4s.\n",
      "Episode 1200 - Running cum reward = -2.230 took 0.5s.\n",
      "Episode 1210 - Running cum reward = -2.109 took 0.4s.\n",
      "Episode 1220 - Running cum reward = -1.929 took 0.5s.\n",
      "Episode 1230 - Running cum reward = -1.947 took 0.4s.\n",
      "Episode 1240 - Running cum reward = -1.912 took 0.4s.\n",
      "Episode 1250 - Running cum reward = -1.872 took 0.4s.\n",
      "Episode 1260 - Running cum reward = -1.931 took 0.4s.\n",
      "Episode 1270 - Running cum reward = -1.938 took 0.4s.\n",
      "Episode 1280 - Running cum reward = -1.874 took 0.4s.\n",
      "Episode 1290 - Running cum reward = -1.911 took 0.4s.\n",
      "Episode 1300 - Running cum reward = -1.859 took 0.5s.\n",
      "Episode 1310 - Running cum reward = -1.710 took 0.4s.\n",
      "Episode 1320 - Running cum reward = -1.796 took 0.4s.\n",
      "Episode 1330 - Running cum reward = -1.713 took 0.4s.\n",
      "Episode 1340 - Running cum reward = -1.599 took 0.4s.\n",
      "Episode 1350 - Running cum reward = -1.570 took 0.4s.\n",
      "Episode 1360 - Running cum reward = -1.409 took 0.4s.\n",
      "Episode 1370 - Running cum reward = -1.253 took 0.4s.\n",
      "Episode 1380 - Running cum reward = -1.131 took 0.4s.\n",
      "Episode 1390 - Running cum reward = -1.155 took 0.4s.\n",
      "Episode 1400 - Running cum reward = -1.158 took 0.4s.\n",
      "Episode 1410 - Running cum reward = -1.115 took 0.5s.\n",
      "Episode 1420 - Running cum reward = -1.212 took 0.4s.\n",
      "Episode 1430 - Running cum reward = -1.340 took 0.4s.\n",
      "Episode 1440 - Running cum reward = -1.213 took 0.4s.\n",
      "Episode 1450 - Running cum reward = -1.220 took 0.4s.\n",
      "Episode 1460 - Running cum reward = -1.138 took 0.5s.\n",
      "Episode 1470 - Running cum reward = -1.026 took 0.4s.\n",
      "Episode 1480 - Running cum reward = -1.119 took 0.4s.\n",
      "Episode 1490 - Running cum reward = -1.034 took 0.4s.\n",
      "Episode 1500 - Running cum reward = -0.853 took 0.4s.\n",
      "Episode 1510 - Running cum reward = -0.950 took 0.4s.\n",
      "Episode 1520 - Running cum reward = -1.002 took 0.4s.\n",
      "Episode 1530 - Running cum reward = -0.748 took 0.4s.\n",
      "Episode 1540 - Running cum reward = -0.827 took 0.4s.\n",
      "Episode 1550 - Running cum reward = -0.912 took 0.4s.\n",
      "Episode 1560 - Running cum reward = -1.029 took 0.4s.\n",
      "Episode 1570 - Running cum reward = -0.990 took 0.4s.\n",
      "Episode 1580 - Running cum reward = -0.918 took 0.4s.\n",
      "Episode 1590 - Running cum reward = -0.955 took 0.4s.\n",
      "Episode 1600 - Running cum reward = -0.919 took 0.4s.\n",
      "Episode 1610 - Running cum reward = -1.002 took 0.4s.\n",
      "Episode 1620 - Running cum reward = -0.994 took 0.4s.\n",
      "Episode 1630 - Running cum reward = -1.149 took 0.4s.\n",
      "Episode 1640 - Running cum reward = -1.154 took 0.4s.\n",
      "Episode 1650 - Running cum reward = -0.982 took 0.4s.\n",
      "Episode 1660 - Running cum reward = -1.056 took 0.4s.\n",
      "Episode 1670 - Running cum reward = -1.024 took 0.4s.\n",
      "Episode 1680 - Running cum reward = -1.142 took 0.4s.\n",
      "Episode 1690 - Running cum reward = -1.120 took 0.4s.\n",
      "Episode 1700 - Running cum reward = -1.166 took 0.4s.\n",
      "Episode 1710 - Running cum reward = -1.030 took 0.6s.\n",
      "Episode 1720 - Running cum reward = -1.173 took 0.7s.\n",
      "Episode 1730 - Running cum reward = -1.076 took 0.6s.\n",
      "Episode 1740 - Running cum reward = -1.088 took 0.6s.\n",
      "Episode 1750 - Running cum reward = -0.907 took 0.5s.\n",
      "Episode 1760 - Running cum reward = -1.036 took 0.5s.\n",
      "Episode 1770 - Running cum reward = -1.078 took 0.5s.\n",
      "Episode 1780 - Running cum reward = -1.141 took 0.5s.\n",
      "Episode 1790 - Running cum reward = -1.124 took 0.5s.\n",
      "Episode 1800 - Running cum reward = -0.912 took 0.5s.\n",
      "Episode 1810 - Running cum reward = -0.977 took 0.5s.\n",
      "Episode 1820 - Running cum reward = -0.853 took 0.5s.\n",
      "Episode 1830 - Running cum reward = -0.811 took 0.5s.\n",
      "Episode 1840 - Running cum reward = -0.791 took 0.6s.\n",
      "Episode 1850 - Running cum reward = -0.793 took 0.5s.\n",
      "Episode 1860 - Running cum reward = -0.935 took 0.6s.\n",
      "Episode 1870 - Running cum reward = -0.891 took 0.5s.\n",
      "Episode 1880 - Running cum reward = -1.044 took 0.5s.\n",
      "Episode 1890 - Running cum reward = -1.008 took 0.5s.\n",
      "Episode 1900 - Running cum reward = -0.997 took 0.5s.\n",
      "Episode 1910 - Running cum reward = -1.017 took 0.5s.\n",
      "Episode 1920 - Running cum reward = -1.085 took 0.5s.\n",
      "Episode 1930 - Running cum reward = -1.212 took 0.5s.\n",
      "Episode 1940 - Running cum reward = -1.003 took 0.5s.\n",
      "Episode 1950 - Running cum reward = -0.892 took 0.5s.\n",
      "Episode 1960 - Running cum reward = -0.950 took 0.4s.\n",
      "Episode 1970 - Running cum reward = -0.794 took 0.4s.\n",
      "Episode 1980 - Running cum reward = -0.869 took 0.5s.\n",
      "Episode 1990 - Running cum reward = -0.815 took 0.5s.\n",
      "Episode 2000 - Running cum reward = -0.804 took 0.4s.\n",
      "Episode 2010 - Running cum reward = -0.838 took 0.4s.\n",
      "Episode 2020 - Running cum reward = -0.868 took 0.4s.\n",
      "Episode 2030 - Running cum reward = -0.799 took 0.4s.\n",
      "Episode 2040 - Running cum reward = -0.879 took 0.5s.\n",
      "Episode 2050 - Running cum reward = -0.903 took 0.4s.\n",
      "Episode 2060 - Running cum reward = -0.922 took 0.4s.\n",
      "Episode 2070 - Running cum reward = -0.916 took 0.5s.\n",
      "Episode 2080 - Running cum reward = -0.904 took 0.4s.\n",
      "Episode 2090 - Running cum reward = -0.898 took 0.5s.\n",
      "Episode 2100 - Running cum reward = -0.833 took 0.6s.\n",
      "Episode 2110 - Running cum reward = -0.895 took 0.4s.\n",
      "Episode 2120 - Running cum reward = -1.067 took 0.4s.\n",
      "Episode 2130 - Running cum reward = -0.955 took 0.5s.\n",
      "Episode 2140 - Running cum reward = -1.001 took 0.6s.\n",
      "Episode 2150 - Running cum reward = -0.923 took 0.5s.\n",
      "Episode 2160 - Running cum reward = -0.824 took 0.4s.\n",
      "Episode 2170 - Running cum reward = -0.875 took 0.5s.\n",
      "Episode 2180 - Running cum reward = -1.080 took 0.4s.\n",
      "Episode 2190 - Running cum reward = -1.016 took 0.5s.\n",
      "Episode 2200 - Running cum reward = -1.052 took 0.4s.\n",
      "Episode 2210 - Running cum reward = -0.999 took 0.4s.\n",
      "Episode 2220 - Running cum reward = -0.941 took 0.4s.\n",
      "Episode 2230 - Running cum reward = -0.885 took 0.5s.\n",
      "Episode 2240 - Running cum reward = -0.959 took 0.4s.\n",
      "Episode 2250 - Running cum reward = -0.943 took 0.5s.\n",
      "Episode 2260 - Running cum reward = -0.868 took 0.4s.\n",
      "Episode 2270 - Running cum reward = -0.794 took 0.5s.\n",
      "Episode 2280 - Running cum reward = -0.763 took 0.5s.\n",
      "Episode 2290 - Running cum reward = -0.714 took 0.5s.\n",
      "Episode 2300 - Running cum reward = -0.769 took 0.5s.\n",
      "Episode 2310 - Running cum reward = -0.799 took 0.5s.\n",
      "Episode 2320 - Running cum reward = -0.926 took 0.5s.\n",
      "Episode 2330 - Running cum reward = -0.918 took 0.4s.\n",
      "Episode 2340 - Running cum reward = -0.877 took 0.4s.\n",
      "Episode 2350 - Running cum reward = -0.803 took 0.5s.\n",
      "Episode 2360 - Running cum reward = -0.734 took 0.4s.\n",
      "Episode 2370 - Running cum reward = -0.716 took 0.4s.\n",
      "Episode 2380 - Running cum reward = -0.631 took 0.5s.\n",
      "Episode 2390 - Running cum reward = -0.572 took 0.5s.\n",
      "Episode 2400 - Running cum reward = -0.511 took 0.4s.\n",
      "Episode 2410 - Running cum reward = -0.439 took 0.5s.\n",
      "Episode 2420 - Running cum reward = -0.455 took 0.5s.\n",
      "Episode 2430 - Running cum reward = -0.573 took 0.4s.\n",
      "Episode 2440 - Running cum reward = -0.657 took 0.5s.\n",
      "Episode 2450 - Running cum reward = -0.700 took 0.5s.\n",
      "Episode 2460 - Running cum reward = -0.739 took 0.4s.\n",
      "Episode 2470 - Running cum reward = -0.630 took 0.4s.\n",
      "Episode 2480 - Running cum reward = -0.679 took 0.5s.\n",
      "Episode 2490 - Running cum reward = -0.738 took 0.4s.\n",
      "Episode 2500 - Running cum reward = -0.716 took 0.6s.\n",
      "Episode 2510 - Running cum reward = -0.641 took 0.5s.\n",
      "Episode 2520 - Running cum reward = -0.711 took 0.5s.\n",
      "Episode 2530 - Running cum reward = -0.651 took 0.4s.\n",
      "Episode 2540 - Running cum reward = -0.529 took 0.5s.\n",
      "Episode 2550 - Running cum reward = -0.609 took 0.4s.\n",
      "Episode 2560 - Running cum reward = -0.564 took 0.4s.\n",
      "Episode 2570 - Running cum reward = -0.569 took 0.6s.\n",
      "Episode 2580 - Running cum reward = -0.775 took 0.4s.\n",
      "Episode 2590 - Running cum reward = -0.904 took 0.4s.\n",
      "Episode 2600 - Running cum reward = -1.015 took 0.4s.\n",
      "Episode 2610 - Running cum reward = -0.846 took 0.4s.\n",
      "Episode 2620 - Running cum reward = -0.759 took 0.4s.\n",
      "Episode 2630 - Running cum reward = -0.720 took 0.5s.\n",
      "Episode 2640 - Running cum reward = -0.493 took 0.4s.\n",
      "Episode 2650 - Running cum reward = -0.571 took 0.4s.\n",
      "Episode 2660 - Running cum reward = -0.628 took 0.4s.\n",
      "Episode 2670 - Running cum reward = -0.718 took 0.4s.\n",
      "Episode 2680 - Running cum reward = -0.614 took 0.4s.\n",
      "Episode 2690 - Running cum reward = -0.612 took 0.4s.\n",
      "Episode 2700 - Running cum reward = -0.694 took 0.4s.\n",
      "Episode 2710 - Running cum reward = -0.766 took 0.4s.\n",
      "Episode 2720 - Running cum reward = -0.768 took 0.5s.\n",
      "Episode 2730 - Running cum reward = -0.739 took 0.4s.\n",
      "Episode 2740 - Running cum reward = -0.636 took 0.4s.\n",
      "Episode 2750 - Running cum reward = -0.652 took 0.4s.\n",
      "Episode 2760 - Running cum reward = -0.675 took 0.5s.\n",
      "Episode 2770 - Running cum reward = -0.725 took 0.4s.\n",
      "Episode 2780 - Running cum reward = -0.846 took 0.4s.\n",
      "Episode 2790 - Running cum reward = -0.739 took 0.4s.\n",
      "Episode 2800 - Running cum reward = -0.814 took 0.5s.\n",
      "Episode 2810 - Running cum reward = -0.813 took 0.4s.\n",
      "Episode 2820 - Running cum reward = -0.833 took 0.4s.\n",
      "Episode 2830 - Running cum reward = -0.770 took 0.4s.\n",
      "Episode 2840 - Running cum reward = -0.786 took 0.4s.\n",
      "Episode 2850 - Running cum reward = -0.838 took 0.5s.\n",
      "Episode 2860 - Running cum reward = -0.757 took 0.4s.\n",
      "Episode 2870 - Running cum reward = -0.673 took 0.5s.\n",
      "Episode 2880 - Running cum reward = -0.837 took 0.4s.\n",
      "Episode 2890 - Running cum reward = -0.861 took 0.4s.\n",
      "Episode 2900 - Running cum reward = -0.770 took 0.4s.\n",
      "Episode 2910 - Running cum reward = -0.759 took 0.5s.\n",
      "Episode 2920 - Running cum reward = -0.719 took 0.4s.\n",
      "Episode 2930 - Running cum reward = -0.696 took 0.4s.\n",
      "Episode 2940 - Running cum reward = -0.601 took 0.5s.\n",
      "Episode 2950 - Running cum reward = -0.593 took 0.4s.\n",
      "Episode 2960 - Running cum reward = -0.578 took 0.4s.\n",
      "Episode 2970 - Running cum reward = -0.576 took 0.4s.\n",
      "Episode 2980 - Running cum reward = -0.605 took 0.4s.\n",
      "Episode 2990 - Running cum reward = -0.615 took 0.4s.\n"
     ]
    }
   ],
   "source": [
    "# A neural net\n",
    "# Environment\n",
    "environment = dqn.GridWorld(7, 7, 5, 3, 50, observable=[3,3], gamma=gamma)\n",
    "# A neural net\n",
    "neuralnet = deepnets.CNN_3x3((33, 3, 3), 0.001, dueling=False, adam=True)\n",
    "targetnet = deepnets.CNN_3x3((33, 3, 3), 0.001, dueling=False, adam=True)\n",
    "# ExperienceReplay \n",
    "#experience_replay = dqn.ExperienceReplay(environment.return_state().shape, buffer_size)\n",
    "# Agent\n",
    "#agent = dqn.DQNAgent(environment, neuralnet, experience_replay, batch_size, target_net=targetnet, \n",
    "#                     target_net_patience=target_patience, epsilon=epsilon, gamma=gamma)\n",
    "# ExperienceReplay\n",
    "experience_replay = dqn.TemporalExperienceReplay(50, environment.return_state().shape, buffer_size, memory=10)\n",
    "# Agent\n",
    "agent = dqn.DQNAgent(environment, neuralnet, experience_replay, batch_size, target_net=targetnet, \n",
    "                     target_net_patience=target_patience, epsilon=epsilon, gamma=gamma, stack=10)\n",
    "name = \"stackDQN_adam\"\n",
    "\n",
    "# Train for 100 epochs of 1500 updates\n",
    "agent.fit(1500, 100, max_q_size=10, savename=\"experiment_02/weights_%s.npy\"%name)\n",
    "# Save learning curve\n",
    "agent.save_curve(\"experiment_02/curve_%s.npy\"%name)"
   ]
  },
  {
   "cell_type": "markdown",
   "metadata": {},
   "source": [
    "#### DRMQN"
   ]
  },
  {
   "cell_type": "code",
   "execution_count": 19,
   "metadata": {
    "collapsed": true
   },
   "outputs": [],
   "source": [
    "deepnets = reload(deepnets)"
   ]
  },
  {
   "cell_type": "code",
   "execution_count": 20,
   "metadata": {
    "collapsed": false
   },
   "outputs": [],
   "source": [
    "rec_depth = 50\n",
    "# Environment\n",
    "environment = dqn.GridWorld(7, 7, 5, 3, 50, observable=[3,3], gamma=gamma)\n",
    "# A neural net\n",
    "neuralnet = deepnets.stateful_RMCNN_3x3((32, 3, 3, 3), (32, 10, 3, 3, 3), 0.01, adam=True)\n",
    "neuralnet_copy = deepnets.stateful_RMCNN_3x3((32, 3, 3, 3), (32, 10, 3, 3, 3), 0.01, adam=True)\n",
    "targetnet = deepnets.stateful_RMCNN_3x3((32, 3, 3, 3), (32, 10, 3, 3, 3), 0.01, adam=True)\n",
    "# ExperienceReplay \n",
    "experience_replay = dqn.TemporalExperienceReplay(rec_depth, environment.return_state().shape, buffer_size, memory=10)\n",
    "# Agent\n",
    "agent = dqn.StatefulDRMQNAgent(environment, neuralnet, neuralnet_copy, experience_replay, batch_size, target_net=targetnet, \n",
    "                               flatten=False, target_net_patience=target_patience, epsilon=epsilon, gamma=gamma)"
   ]
  },
  {
   "cell_type": "code",
   "execution_count": null,
   "metadata": {
    "collapsed": false,
    "scrolled": true
   },
   "outputs": [
    {
     "name": "stdout",
     "output_type": "stream",
     "text": [
      "Episode 0 - Running cum reward = -3.974 took 11.1s.\n",
      "Episode 10 - Running cum reward = -3.866 took 4.5s.\n",
      "Episode 20 - Running cum reward = -3.826 took 5.0s.\n",
      "Episode 30 - Running cum reward = -3.798 took 4.9s.\n",
      "Episode 40 - Running cum reward = -3.713 took 4.7s.\n",
      "Episode 50 - Running cum reward = -3.539 took 4.6s.\n",
      "Episode 60 - Running cum reward = -3.408 took 4.5s.\n",
      "Episode 70 - Running cum reward = -3.269 took 4.6s.\n",
      "Episode 80 - Running cum reward = -3.007 took 4.5s.\n",
      "Episode 90 - Running cum reward = -2.897 took 4.4s.\n",
      "Episode 100 - Running cum reward = -2.615 took 4.3s.\n",
      "Episode 110 - Running cum reward = -2.624 took 4.2s.\n",
      "Episode 120 - Running cum reward = -2.448 took 4.3s.\n",
      "Episode 130 - Running cum reward = -2.392 took 4.3s.\n",
      "Episode 140 - Running cum reward = -2.366 took 4.7s.\n",
      "Episode 150 - Running cum reward = -2.197 took 4.6s.\n",
      "Episode 160 - Running cum reward = -2.087 took 4.7s.\n",
      "Episode 170 - Running cum reward = -2.045 took 4.6s.\n",
      "Episode 180 - Running cum reward = -2.157 took 4.5s.\n",
      "Episode 190 - Running cum reward = -2.063 took 4.5s.\n",
      "Episode 200 - Running cum reward = -1.949 took 4.4s.\n",
      "Episode 210 - Running cum reward = -1.829 took 4.4s.\n",
      "Episode 220 - Running cum reward = -1.731 took 4.3s.\n",
      "Episode 230 - Running cum reward = -1.648 took 5.1s.\n",
      "Episode 240 - Running cum reward = -1.533 took 4.8s.\n",
      "Episode 250 - Running cum reward = -1.557 took 4.2s.\n",
      "Episode 260 - Running cum reward = -1.739 took 4.3s.\n",
      "Episode 270 - Running cum reward = -1.635 took 5.1s.\n",
      "Episode 280 - Running cum reward = -1.700 took 4.4s.\n",
      "Episode 290 - Running cum reward = -1.625 took 4.3s.\n",
      "Episode 300 - Running cum reward = -1.649 took 4.5s.\n",
      "Episode 310 - Running cum reward = -1.770 took 4.9s.\n",
      "Episode 320 - Running cum reward = -1.674 took 4.5s.\n",
      "Episode 330 - Running cum reward = -1.502 took 4.7s.\n",
      "Episode 340 - Running cum reward = -1.593 took 4.5s.\n",
      "Episode 350 - Running cum reward = -1.738 took 4.4s.\n",
      "Episode 360 - Running cum reward = -1.528 took 4.6s.\n",
      "Episode 370 - Running cum reward = -1.434 took 4.7s.\n",
      "Episode 380 - Running cum reward = -1.380 took 4.6s.\n",
      "Episode 390 - Running cum reward = -1.386 took 5.1s.\n",
      "Episode 400 - Running cum reward = -1.618 took 4.7s.\n",
      "Episode 410 - Running cum reward = -1.592 took 4.7s.\n",
      "Episode 420 - Running cum reward = -1.528 took 4.7s.\n",
      "Episode 430 - Running cum reward = -1.587 took 4.6s.\n",
      "Episode 440 - Running cum reward = -1.712 took 5.3s.\n",
      "Episode 450 - Running cum reward = -1.608 took 4.5s.\n",
      "Episode 460 - Running cum reward = -1.587 took 4.4s.\n",
      "Episode 470 - Running cum reward = -1.609 took 4.3s.\n",
      "Episode 480 - Running cum reward = -1.507 took 4.3s.\n",
      "Episode 490 - Running cum reward = -1.475 took 4.3s.\n",
      "Episode 500 - Running cum reward = -1.385 took 4.4s.\n",
      "Episode 510 - Running cum reward = -1.427 took 4.2s.\n",
      "Episode 520 - Running cum reward = -1.442 took 4.6s.\n",
      "Episode 530 - Running cum reward = -1.710 took 4.3s.\n",
      "Episode 540 - Running cum reward = -1.547 took 4.3s.\n",
      "Episode 550 - Running cum reward = -1.648 took 5.8s.\n",
      "Episode 560 - Running cum reward = -1.725 took 4.7s.\n",
      "Episode 570 - Running cum reward = -1.603 took 4.6s.\n",
      "Episode 580 - Running cum reward = -1.664 took 4.6s.\n",
      "Episode 590 - Running cum reward = -1.723 took 4.6s.\n",
      "Episode 600 - Running cum reward = -1.734 took 4.4s.\n",
      "Episode 610 - Running cum reward = -1.645 took 4.5s.\n",
      "Episode 620 - Running cum reward = -1.772 took 4.7s.\n",
      "Episode 630 - Running cum reward = -1.743 took 4.5s.\n",
      "Episode 640 - Running cum reward = -1.670 took 4.5s.\n",
      "Episode 650 - Running cum reward = -1.784 took 4.4s.\n",
      "Episode 660 - Running cum reward = -1.842 took 4.5s.\n",
      "Episode 670 - Running cum reward = -1.641 took 4.5s.\n",
      "Episode 680 - Running cum reward = -1.472 took 4.8s.\n",
      "Episode 690 - Running cum reward = -1.651 took 4.4s.\n",
      "Episode 700 - Running cum reward = -1.641 took 4.4s.\n",
      "Episode 710 - Running cum reward = -1.631 took 4.5s.\n",
      "Episode 720 - Running cum reward = -1.740 took 4.4s.\n",
      "Episode 730 - Running cum reward = -1.636 took 4.8s.\n",
      "Episode 740 - Running cum reward = -1.867 took 4.6s.\n",
      "Episode 750 - Running cum reward = -1.936 took 4.4s.\n",
      "Episode 760 - Running cum reward = -1.868 took 4.5s.\n",
      "Episode 770 - Running cum reward = -1.875 took 4.5s.\n",
      "Episode 780 - Running cum reward = -1.845 took 4.5s.\n",
      "Episode 790 - Running cum reward = -1.868 took 4.8s.\n",
      "Episode 800 - Running cum reward = -1.651 took 4.4s.\n",
      "Episode 810 - Running cum reward = -1.588 took 4.5s.\n",
      "Episode 820 - Running cum reward = -1.449 took 4.4s.\n",
      "Episode 830 - Running cum reward = -1.484 took 4.4s.\n",
      "Episode 840 - Running cum reward = -1.595 took 4.7s.\n",
      "Episode 850 - Running cum reward = -1.701 took 4.5s.\n",
      "Episode 860 - Running cum reward = -1.848 took 4.4s.\n",
      "Episode 870 - Running cum reward = -1.696 took 4.5s.\n",
      "Episode 880 - Running cum reward = -1.777 took 4.5s.\n",
      "Episode 890 - Running cum reward = -1.772 took 4.5s.\n",
      "Episode 900 - Running cum reward = -1.706 took 4.5s.\n",
      "Episode 910 - Running cum reward = -1.778 took 4.4s.\n",
      "Episode 920 - Running cum reward = -1.752 took 4.5s.\n",
      "Episode 930 - Running cum reward = -1.727 took 4.4s.\n",
      "Episode 940 - Running cum reward = -1.483 took 4.3s.\n",
      "Episode 950 - Running cum reward = -1.519 took 4.2s.\n",
      "Episode 960 - Running cum reward = -1.467 took 4.3s.\n",
      "Episode 970 - Running cum reward = -1.568 took 4.4s.\n",
      "Episode 980 - Running cum reward = -1.504 took 4.2s.\n",
      "Episode 990 - Running cum reward = -1.544 took 4.2s.\n",
      "Episode 1000 - Running cum reward = -1.592 took 4.2s.\n",
      "Episode 1010 - Running cum reward = -1.524 took 4.3s.\n",
      "Episode 1020 - Running cum reward = -1.701 took 4.2s.\n",
      "Episode 1030 - Running cum reward = -1.769 took 4.3s.\n",
      "Episode 1040 - Running cum reward = -1.603 took 4.4s.\n",
      "Episode 1050 - Running cum reward = -1.477 took 4.2s.\n",
      "Episode 1060 - Running cum reward = -1.491 took 4.3s.\n",
      "Episode 1070 - Running cum reward = -1.535 took 4.2s.\n",
      "Episode 1080 - Running cum reward = -1.335 took 4.3s.\n",
      "Episode 1090 - Running cum reward = -1.443 took 4.3s.\n",
      "Episode 1100 - Running cum reward = -1.388 took 4.2s.\n",
      "Episode 1110 - Running cum reward = -1.300 took 4.2s.\n",
      "Episode 1120 - Running cum reward = -1.329 took 4.3s.\n",
      "Episode 1130 - Running cum reward = -1.231 took 4.2s.\n",
      "Episode 1140 - Running cum reward = -1.176 took 5.3s.\n",
      "Episode 1150 - Running cum reward = -1.204 took 6.8s.\n",
      "Episode 1160 - Running cum reward = -1.486 took 5.4s.\n",
      "Episode 1170 - Running cum reward = -1.186 took 5.4s.\n",
      "Episode 1180 - Running cum reward = -1.108 took 5.4s.\n",
      "Episode 1190 - Running cum reward = -1.342 took 5.3s.\n",
      "Episode 1200 - Running cum reward = -1.339 took 5.3s.\n",
      "Episode 1210 - Running cum reward = -1.346 took 5.3s.\n",
      "Episode 1220 - Running cum reward = -1.387 took 5.5s.\n",
      "Episode 1230 - Running cum reward = -1.405 took 5.4s.\n",
      "Episode 1240 - Running cum reward = -1.617 took 5.4s.\n",
      "Episode 1250 - Running cum reward = -1.663 took 4.5s.\n",
      "Episode 1260 - Running cum reward = -1.711 took 6.1s.\n",
      "Episode 1270 - Running cum reward = -1.619 took 4.3s.\n",
      "Episode 1280 - Running cum reward = -1.583 took 4.9s.\n",
      "Episode 1290 - Running cum reward = -1.706 took 5.2s.\n",
      "Episode 1300 - Running cum reward = -1.744 took 4.5s.\n",
      "Episode 1310 - Running cum reward = -1.807 took 4.4s.\n",
      "Episode 1320 - Running cum reward = -1.822 took 4.6s.\n",
      "Episode 1330 - Running cum reward = -1.919 took 4.6s.\n",
      "Episode 1340 - Running cum reward = -1.804 took 5.5s.\n",
      "Episode 1350 - Running cum reward = -1.888 took 4.7s.\n",
      "Episode 1360 - Running cum reward = -1.988 took 4.7s.\n",
      "Episode 1370 - Running cum reward = -1.832 took 4.9s.\n",
      "Episode 1380 - Running cum reward = -1.905 took 4.9s.\n",
      "Episode 1390 - Running cum reward = -1.951 took 7.0s.\n",
      "Episode 1400 - Running cum reward = -1.898 took 4.8s.\n",
      "Episode 1410 - Running cum reward = -1.856 took 5.2s.\n",
      "Episode 1420 - Running cum reward = -1.874 took 4.8s.\n",
      "Episode 1430 - Running cum reward = -1.619 took 5.4s.\n",
      "Episode 1440 - Running cum reward = -1.648 took 4.6s.\n",
      "Episode 1450 - Running cum reward = -1.825 took 4.7s.\n",
      "Episode 1460 - Running cum reward = -1.907 took 5.2s.\n",
      "Episode 1470 - Running cum reward = -1.821 took 4.5s.\n",
      "Episode 1480 - Running cum reward = -1.792 took 4.9s.\n",
      "Episode 1490 - Running cum reward = -1.814 took 6.4s.\n",
      "Episode 1500 - Running cum reward = -1.917 took 4.5s.\n",
      "Episode 1510 - Running cum reward = -1.732 took 4.9s.\n",
      "Episode 1520 - Running cum reward = -1.658 took 4.5s.\n",
      "Episode 1530 - Running cum reward = -1.634 took 4.6s.\n",
      "Episode 1540 - Running cum reward = -1.811 took 4.4s.\n",
      "Episode 1550 - Running cum reward = -1.825 took 4.5s.\n",
      "Episode 1560 - Running cum reward = -1.822 took 4.4s.\n",
      "Episode 1570 - Running cum reward = -1.788 took 4.5s.\n",
      "Episode 1580 - Running cum reward = -1.719 took 4.5s.\n",
      "Episode 1590 - Running cum reward = -1.810 took 4.5s.\n",
      "Episode 1600 - Running cum reward = -1.891 took 4.3s.\n",
      "Episode 1610 - Running cum reward = -1.748 took 4.4s.\n",
      "Episode 1620 - Running cum reward = -1.670 took 4.4s.\n",
      "Episode 1630 - Running cum reward = -1.651 took 4.3s.\n",
      "Episode 1640 - Running cum reward = -1.584 took 4.3s.\n",
      "Episode 1650 - Running cum reward = -1.609 took 4.3s.\n",
      "Episode 1660 - Running cum reward = -1.759 took 4.6s.\n",
      "Episode 1670 - Running cum reward = -1.698 took 5.3s.\n",
      "Episode 1680 - Running cum reward = -1.834 took 4.5s.\n",
      "Episode 1690 - Running cum reward = -1.877 took 4.5s.\n",
      "Episode 1700 - Running cum reward = -1.881 took 4.5s.\n",
      "Episode 1710 - Running cum reward = -1.799 took 4.7s.\n",
      "Episode 1720 - Running cum reward = -1.722 took 4.5s.\n",
      "Episode 1730 - Running cum reward = -1.828 took 4.6s.\n",
      "Episode 1740 - Running cum reward = -1.706 took 4.7s.\n",
      "Episode 1750 - Running cum reward = -1.731 took 6.2s.\n",
      "Episode 1760 - Running cum reward = -1.562 took 4.6s.\n",
      "Episode 1770 - Running cum reward = -1.572 took 4.5s.\n",
      "Episode 1780 - Running cum reward = -1.438 took 4.5s.\n",
      "Episode 1790 - Running cum reward = -1.474 took 4.4s.\n",
      "Episode 1800 - Running cum reward = -1.478 took 4.6s.\n",
      "Episode 1810 - Running cum reward = -1.530 took 4.3s.\n",
      "Episode 1820 - Running cum reward = -1.671 took 4.3s.\n",
      "Episode 1830 - Running cum reward = -1.622 took 4.3s.\n",
      "Episode 1840 - Running cum reward = -1.662 took 4.3s.\n",
      "Episode 1850 - Running cum reward = -1.581 took 4.3s.\n",
      "Episode 1860 - Running cum reward = -1.616 took 4.4s.\n",
      "Episode 1870 - Running cum reward = -1.782 took 4.3s.\n",
      "Episode 1880 - Running cum reward = -1.693 took 4.4s.\n",
      "Episode 1890 - Running cum reward = -1.758 took 4.4s.\n",
      "Episode 1900 - Running cum reward = -1.738 took 4.3s.\n",
      "Episode 1910 - Running cum reward = -1.484 took 4.4s.\n",
      "Episode 1920 - Running cum reward = -1.609 took 4.3s.\n",
      "Episode 1930 - Running cum reward = -1.526 took 4.4s.\n",
      "Episode 1940 - Running cum reward = -1.669 took 4.3s.\n",
      "Episode 1950 - Running cum reward = -1.488 took 4.4s.\n",
      "Episode 1960 - Running cum reward = -1.423 took 4.5s.\n",
      "Episode 1970 - Running cum reward = -1.501 took 4.3s.\n",
      "Episode 1980 - Running cum reward = -1.558 took 4.3s.\n",
      "Episode 1990 - Running cum reward = -1.595 took 4.4s.\n",
      "Episode 2000 - Running cum reward = -1.643 took 4.3s.\n",
      "Episode 2010 - Running cum reward = -1.611 took 4.5s.\n",
      "Episode 2020 - Running cum reward = -1.654 took 4.9s.\n",
      "Episode 2030 - Running cum reward = -1.678 took 4.2s.\n",
      "Episode 2040 - Running cum reward = -1.672 took 4.3s.\n",
      "Episode 2050 - Running cum reward = -1.922 took 4.3s.\n",
      "Episode 2060 - Running cum reward = -1.880 took 4.3s.\n",
      "Episode 2070 - Running cum reward = -1.753 took 4.2s.\n",
      "Episode 2080 - Running cum reward = -1.573 took 4.4s.\n",
      "Episode 2090 - Running cum reward = -1.547 took 4.3s.\n",
      "Episode 2100 - Running cum reward = -1.562 took 4.3s.\n",
      "Episode 2110 - Running cum reward = -1.587 took 4.4s.\n",
      "Episode 2120 - Running cum reward = -1.630 took 4.8s.\n",
      "Episode 2130 - Running cum reward = -1.652 took 4.5s.\n",
      "Episode 2140 - Running cum reward = -1.523 took 5.2s.\n",
      "Episode 2150 - Running cum reward = -1.665 took 4.3s.\n",
      "Episode 2160 - Running cum reward = -1.671 took 4.4s.\n",
      "Episode 2170 - Running cum reward = -1.750 took 4.4s.\n",
      "Episode 2180 - Running cum reward = -1.853 took 4.8s.\n",
      "Episode 2190 - Running cum reward = -1.774 took 4.4s.\n",
      "Episode 2200 - Running cum reward = -1.676 took 4.6s.\n",
      "Episode 2210 - Running cum reward = -1.577 took 4.4s.\n",
      "Episode 2220 - Running cum reward = -1.652 took 4.5s.\n",
      "Episode 2230 - Running cum reward = -1.677 took 4.3s.\n",
      "Episode 2240 - Running cum reward = -1.649 took 4.4s.\n",
      "Episode 2250 - Running cum reward = -1.543 took 4.3s.\n",
      "Episode 2260 - Running cum reward = -1.424 took 4.6s.\n",
      "Episode 2270 - Running cum reward = -1.524 took 4.6s.\n",
      "Episode 2280 - Running cum reward = -1.561 took 4.5s.\n",
      "Episode 2290 - Running cum reward = -1.222 took 4.4s.\n",
      "Episode 2300 - Running cum reward = -1.336 took 4.4s.\n",
      "Episode 2310 - Running cum reward = -1.316 took 4.3s.\n",
      "Episode 2320 - Running cum reward = -1.406 took 4.8s.\n",
      "Episode 2330 - Running cum reward = -1.357 took 4.3s.\n",
      "Episode 2340 - Running cum reward = -1.335 took 4.3s.\n",
      "Episode 2350 - Running cum reward = -1.266 took 4.4s.\n",
      "Episode 2360 - Running cum reward = -1.293 took 4.4s.\n",
      "Episode 2370 - Running cum reward = -1.493 took 4.3s.\n",
      "Episode 2380 - Running cum reward = -1.525 took 4.5s.\n",
      "Episode 2390 - Running cum reward = -1.682 took 4.5s.\n",
      "Episode 2400 - Running cum reward = -1.827 took 4.3s.\n",
      "Episode 2410 - Running cum reward = -1.836 took 4.5s.\n",
      "Episode 2420 - Running cum reward = -1.848 took 4.5s.\n",
      "Episode 2430 - Running cum reward = -1.598 took 4.4s.\n",
      "Episode 2440 - Running cum reward = -1.328 took 4.3s.\n",
      "Episode 2450 - Running cum reward = -1.390 took 4.4s.\n",
      "Episode 2460 - Running cum reward = -1.478 took 4.3s.\n"
     ]
    }
   ],
   "source": [
    "name = \"DRMQN\"\n",
    "\n",
    "# Train for 100 epochs of 1500 updates\n",
    "agent.fit(1500, 100, max_q_size=1, savename=\"experiment_02/weights_%s.npy\"%name)\n",
    "# Save learning curve\n",
    "agent.save_curve(\"experiment_02/curve_%s.npy\"%name)"
   ]
  },
  {
   "cell_type": "code",
   "execution_count": null,
   "metadata": {
    "collapsed": true
   },
   "outputs": [],
   "source": []
  },
  {
   "cell_type": "markdown",
   "metadata": {
    "deletable": true,
    "editable": true
   },
   "source": [
    "# Variante"
   ]
  },
  {
   "cell_type": "code",
   "execution_count": 1,
   "metadata": {
    "collapsed": false,
    "deletable": true,
    "editable": true
   },
   "outputs": [
    {
     "ename": "NameError",
     "evalue": "name 'utils' is not defined",
     "output_type": "error",
     "traceback": [
      "\u001b[1;31m---------------------------------------------------------------------------\u001b[0m",
      "\u001b[1;31mNameError\u001b[0m                                 Traceback (most recent call last)",
      "\u001b[1;32m<ipython-input-1-8e72153fe822>\u001b[0m in \u001b[0;36m<module>\u001b[1;34m()\u001b[0m\n\u001b[1;32m----> 1\u001b[1;33m \u001b[0mutils\u001b[0m \u001b[1;33m=\u001b[0m \u001b[0mreload\u001b[0m\u001b[1;33m(\u001b[0m\u001b[0mutils\u001b[0m\u001b[1;33m)\u001b[0m\u001b[1;33m\u001b[0m\u001b[0m\n\u001b[0m\u001b[0;32m      2\u001b[0m \u001b[0mdqn\u001b[0m \u001b[1;33m=\u001b[0m \u001b[0mreload\u001b[0m\u001b[1;33m(\u001b[0m\u001b[0mdqn\u001b[0m\u001b[1;33m)\u001b[0m\u001b[1;33m\u001b[0m\u001b[0m\n\u001b[0;32m      3\u001b[0m \u001b[0mdeepnets\u001b[0m \u001b[1;33m=\u001b[0m \u001b[0mreload\u001b[0m\u001b[1;33m(\u001b[0m\u001b[0mdeepnets\u001b[0m\u001b[1;33m)\u001b[0m\u001b[1;33m\u001b[0m\u001b[0m\n",
      "\u001b[1;31mNameError\u001b[0m: name 'utils' is not defined"
     ]
    }
   ],
   "source": [
    "utils = reload(utils)\n",
    "dqn = reload(dqn)\n",
    "deepnets = reload(deepnets)"
   ]
  },
  {
   "cell_type": "code",
   "execution_count": null,
   "metadata": {
    "collapsed": false,
    "deletable": true,
    "editable": true
   },
   "outputs": [],
   "source": [
    "batch_size = 32\n",
    "rec_depth = 8\n",
    "# Environment\n",
    "environment = dqn.GridWorld(7, 7, 5, 3, 50, observable=[3,3], gamma=gamma)\n",
    "# A neural net\n",
    "neuralnet = deepnets.RCNN_3x3((rec_depth, 27), 0.01, adam=True)\n",
    "stateful_net = deepnets.stateful_RCNN_3x3((1, 1, 27), 0.01)\n",
    "targetnet = deepnets.RCNN_3x3((rec_depth, 27), 0.01, adam=True)\n",
    "# ExperienceReplay \n",
    "experience_replay = dqn.TemporalExperienceReplay(rec_depth, environment.return_state().shape, buffer_size, stateful=False)\n",
    "# Agent\n",
    "agent = dqn.RDQNAgent(environment, neuralnet, stateful_net, experience_replay, batch_size, target_net=targetnet, \n",
    "                      target_net_patience=target_patience, epsilon=epsilon, gamma=gamma)"
   ]
  },
  {
   "cell_type": "code",
   "execution_count": 236,
   "metadata": {
    "collapsed": false,
    "deletable": true,
    "editable": true
   },
   "outputs": [
    {
     "name": "stdout",
     "output_type": "stream",
     "text": [
      "\n"
     ]
    }
   ],
   "source": [
    "name = \"DQN_v2\"\n",
    "# Train for 100 epochs of 1500 updates\n",
    "#agent.fit(1500, 100, max_q_size=10, savename=\"experiment_02/weights_%s.npy\"%name)\n",
    "# Save learning curve\n",
    "#agent.save_curve(\"experiment_02/curve_%s.npy\"%name)"
   ]
  },
  {
   "cell_type": "code",
   "execution_count": null,
   "metadata": {
    "collapsed": true,
    "deletable": true,
    "editable": true
   },
   "outputs": [],
   "source": []
  },
  {
   "cell_type": "code",
   "execution_count": null,
   "metadata": {
    "collapsed": true,
    "deletable": true,
    "editable": true
   },
   "outputs": [],
   "source": []
  },
  {
   "cell_type": "markdown",
   "metadata": {
    "deletable": true,
    "editable": true
   },
   "source": [
    "## DQN vs DRQN"
   ]
  },
  {
   "cell_type": "code",
   "execution_count": 15,
   "metadata": {
    "collapsed": false,
    "deletable": true,
    "editable": true
   },
   "outputs": [
    {
     "data": {
      "image/png": "[encoded data removed]",
      "text/plain": [
       "<matplotlib.figure.Figure at 0x2983b668>"
      ]
     },
     "metadata": {},
     "output_type": "display_data"
    }
   ],
   "source": [
    "plt.figure(figsize=(8,5))\n",
    "for name in [\"DQN\", \"DRQN\", \"stackDQN\"]:\n",
    "    curve = np.load(\"experiment_02/curve_%s.npy\"%name)\n",
    "    plt.plot(utils.moving_average(curve, 100), label=name)\n",
    "curve = np.load(\"experiment_02/curve_DQN_full.npy\")\n",
    "plt.plot(utils.moving_average(curve, 100), label=\"DQN_full\")\n",
    "plt.grid()\n",
    "plt.legend()\n",
    "plt.ylabel(\"returns\")\n",
    "plt.xlabel(\"episodes\")\n",
    "plt.show()"
   ]
  },
  {
   "cell_type": "markdown",
   "metadata": {
    "deletable": true,
    "editable": true
   },
   "source": [
    "As can be seen on the learning curves, the **Recurrent agent clearly outperforms the feedforward one.** To understand why, let's observe how both agents evolve on this task:"
   ]
  },
  {
   "cell_type": "markdown",
   "metadata": {
    "deletable": true,
    "editable": true
   },
   "source": [
    "### Live demo"
   ]
  },
  {
   "cell_type": "code",
   "execution_count": 596,
   "metadata": {
    "collapsed": false,
    "deletable": true,
    "editable": true
   },
   "outputs": [],
   "source": [
    "# Environment\n",
    "environment = dqn.GridWorld(7, 7, 5, 3, 50, observable=[3,3], gamma=gamma)\n",
    "# A neural net\n",
    "neuralnet = deepnets.CNN_3x3((3, 3, 3), 0.01, dueling=False, adam=False)\n",
    "targetnet = deepnets.CNN_3x3((3, 3, 3), 0.01, dueling=False, adam=False)\n",
    "# ExperienceReplay \n",
    "experience_replay = dqn.ExperienceReplay(environment.return_state().shape, buffer_size)\n",
    "# Agent\n",
    "DQN = dqn.DQNAgent(environment, neuralnet, experience_replay, batch_size, target_net=targetnet, \n",
    "                     target_net_patience=target_patience, epsilon=epsilon, gamma=gamma)\n",
    "# Load weights\n",
    "DQN.load_weights(\"experiment_02/weights_DQN.npy\")\n",
    "\n",
    "# Environment\n",
    "r_environment = dqn.GridWorld(7, 7, 5, 3, 50, observable=[3,3], gamma=gamma)\n",
    "# A neural net\n",
    "r_neuralnet = deepnets.RCNN_3x3((batch_size, 1, 27), 0.01)\n",
    "r_neuralnet_copy = deepnets.RCNN_3x3((batch_size, 1, 27), 0.01)\n",
    "r_targetnet = deepnets.RCNN_3x3((batch_size, 1, 27), 0.01)\n",
    "# ExperienceReplay \n",
    "t_experience_replay = dqn.TemporalExperienceReplay(rec_depth, environment.return_state().shape, buffer_size)\n",
    "# Agent\n",
    "DRQN = dqn.StatefulRDQNAgent(r_environment, r_neuralnet, r_neuralnet_copy, t_experience_replay, batch_size, target_net=r_targetnet, \n",
    "                              target_net_patience=target_patience, epsilon=epsilon, gamma=gamma)\n",
    "DRQN.load_weights(\"experiment_02/weights_DRQN.npy\")"
   ]
  },
  {
   "cell_type": "code",
   "execution_count": 1029,
   "metadata": {
    "collapsed": false,
    "deletable": true,
    "editable": true
   },
   "outputs": [
    {
     "name": "stdout",
     "output_type": "stream",
     "text": [
      "Left: DQN \t\t\t\t\t\t\tRight: DRQN\n"
     ]
    },
    {
     "data": {
      "image/png": "[encoded data removed]",
      "text/plain": [
       "<matplotlib.figure.Figure at 0x4841aeb8>"
      ]
     },
     "metadata": {},
     "output_type": "display_data"
    }
   ],
   "source": [
    "DQN.epsilon = 1.\n",
    "DRQN.epsilon = 1.\n",
    "\n",
    "print(\"Left: DQN \\t\\t\\t\\t\\t\\t\\tRight: DRQN\")\n",
    "plt.figure(figsize=(16,16))\n",
    "plt.subplot(1,2,1)\n",
    "batch, target_batch =  DQN.demo(fig=False)\n",
    "plt.subplot(1,2,2)\n",
    "batch, target_batch =  DRQN.demo(fig=False)\n",
    "plt.show()"
   ]
  },
  {
   "cell_type": "markdown",
   "metadata": {
    "deletable": true,
    "editable": true
   },
   "source": [
    "If you manage to execute the cell above, you'll see that the DQN agent gets often stuck in an infinite loop \"left-right-left-right...\" (or \"up-down-up-down...\") when there is no green cell among the visible states. On the contrary, as the DRQN agent is able to remember its past actions, this situation occurs less often with the recurrent agent who is better at discovering green cell in unvisited parts of the grid."
   ]
  },
  {
   "cell_type": "markdown",
   "metadata": {
    "collapsed": true,
    "deletable": true,
    "editable": true
   },
   "source": [
    "# Experiment 3 -"
   ]
  },
  {
   "cell_type": "code",
   "execution_count": 237,
   "metadata": {
    "collapsed": true,
    "deletable": true,
    "editable": true
   },
   "outputs": [],
   "source": [
    "dqn = reload(dqn)"
   ]
  },
  {
   "cell_type": "code",
   "execution_count": 242,
   "metadata": {
    "collapsed": false,
    "deletable": true,
    "editable": true
   },
   "outputs": [],
   "source": [
    "environment = dqn.GridWorld(7, 7, 5, 3, 50, gamma=0.99, centered=True)"
   ]
  },
  {
   "cell_type": "code",
   "execution_count": 243,
   "metadata": {
    "collapsed": false,
    "deletable": true,
    "editable": true
   },
   "outputs": [
    {
     "data": {
      "image/png": "[encoded data removed]",
      "text/plain": [
       "<matplotlib.figure.Figure at 0x2d4fef28>"
      ]
     },
     "metadata": {},
     "output_type": "display_data"
    }
   ],
   "source": [
    "environment.visualize()"
   ]
  },
  {
   "cell_type": "markdown",
   "metadata": {
    "deletable": true,
    "editable": true
   },
   "source": [
    "### Fully observable"
   ]
  },
  {
   "cell_type": "code",
   "execution_count": 2,
   "metadata": {
    "collapsed": false,
    "deletable": true,
    "editable": true
   },
   "outputs": [],
   "source": [
    "epsilon = 0.8\n",
    "gamma= 0.99\n",
    "batch_size = 32\n",
    "target_patience = 1\n",
    "buffer_size = 50*500"
   ]
  },
  {
   "cell_type": "code",
   "execution_count": 249,
   "metadata": {
    "collapsed": true,
    "deletable": true,
    "editable": true
   },
   "outputs": [],
   "source": [
    "\n",
    "# Environment\n",
    "environment = dqn.GridWorld(7, 7, 5, 3, 50, gamma=gamma, centered=True)\n",
    "# A neural net\n",
    "neuralnet = deepnets.CNN_7x7((3, 7, 7), 0.01, dueling=False, adam=True)\n",
    "targetnet = deepnets.CNN_7x7((3, 7, 7), 0.01, dueling=False, adam=True)\n",
    "# ExperienceReplay \n",
    "experience_replay = dqn.ExperienceReplay(environment.return_state().shape, buffer_size)\n",
    "# Agent\n",
    "agent = dqn.DQNAgent(environment, neuralnet, experience_replay, batch_size, target_net=targetnet, \n",
    "                     target_net_patience=target_patience, epsilon=epsilon, gamma=gamma)"
   ]
  },
  {
   "cell_type": "code",
   "execution_count": 250,
   "metadata": {
    "collapsed": true,
    "deletable": true,
    "editable": true
   },
   "outputs": [
    {
     "name": "stdout",
     "output_type": "stream",
     "text": [
      "Episode 2999 - Running cum reward = 0.942 took 0.9s.                                                                                                                                                                                                                                                                                                                                                                                                                                                                                                                                                                                                                                                                                                                                                                                                                                                                                                                                                                                                                                                                                                                                                                                                                                                                                                                                                                                                                                                                                                                                                                                                                                                                                                                                                                                                                                                                                                                                                                                                                                                                                                                                                                                                                                                                                                                                                                                                                                                                                                                                                                                                                                                                                                                                                                                                                                                                                                                                                                                                                                                                                                                     \n"
     ]
    }
   ],
   "source": [
    "name = \"DQN_full\"\n",
    "# Train for 100 epochs of 1500 updates\n",
    "agent.fit(1500, 100, max_q_size=10, savename=\"experiment_03/weights_%s.npy\"%name)\n",
    "# Save learning curve\n",
    "agent.save_curve(\"experiment_03/curve_%s.npy\"%name)"
   ]
  },
  {
   "cell_type": "code",
   "execution_count": 273,
   "metadata": {
    "collapsed": true,
    "deletable": true,
    "editable": true
   },
   "outputs": [],
   "source": [
    "# Environment\n",
    "environment = dqn.GridWorld(7, 7, 5, 3, 50, gamma=gamma, centered=True, p=0.5)\n",
    "# A neural net\n",
    "neuralnet = deepnets.CNN_7x7((3, 7, 7), 0.01, dueling=False, adam=True)\n",
    "targetnet = deepnets.CNN_7x7((3, 7, 7), 0.01, dueling=False, adam=True)\n",
    "# ExperienceReplay \n",
    "experience_replay = dqn.ExperienceReplay(environment.return_state().shape, buffer_size)\n",
    "# Agent\n",
    "agent = dqn.DQNAgent(environment, neuralnet, experience_replay, batch_size, target_net=targetnet, \n",
    "                     target_net_patience=target_patience, epsilon=epsilon, gamma=gamma)"
   ]
  },
  {
   "cell_type": "code",
   "execution_count": 274,
   "metadata": {
    "collapsed": false,
    "deletable": true,
    "editable": true
   },
   "outputs": [
    {
     "name": "stdout",
     "output_type": "stream",
     "text": [
      "____________________________________________________________________________________________________\n",
      "Layer (type)                     Output Shape          Param #     Connected to                     \n",
      "====================================================================================================\n",
      "input_77 (InputLayer)            (None, 3, 7, 7)       0                                            \n",
      "____________________________________________________________________________________________________\n",
      "convolution2d_39 (Convolution2D) (None, 16, 3, 3)      448         input_77[0][0]                   \n",
      "____________________________________________________________________________________________________\n",
      "activation_31 (Activation)       (None, 16, 3, 3)      0           convolution2d_39[0][0]           \n",
      "____________________________________________________________________________________________________\n",
      "convolution2d_40 (Convolution2D) (None, 16, 1, 1)      2320        activation_31[0][0]              \n",
      "____________________________________________________________________________________________________\n",
      "activation_32 (Activation)       (None, 16, 1, 1)      0           convolution2d_40[0][0]           \n",
      "____________________________________________________________________________________________________\n",
      "convolution2d_41 (Convolution2D) (None, 4, 1, 1)       68          activation_32[0][0]              \n",
      "____________________________________________________________________________________________________\n",
      "flatten_9 (Flatten)              (None, 4)             0           convolution2d_41[0][0]           \n",
      "====================================================================================================\n",
      "Total params: 2,836\n",
      "Trainable params: 2,836\n",
      "Non-trainable params: 0\n",
      "____________________________________________________________________________________________________\n"
     ]
    }
   ],
   "source": [
    "neuralnet.summary()"
   ]
  },
  {
   "cell_type": "code",
   "execution_count": 254,
   "metadata": {
    "collapsed": true,
    "deletable": true,
    "editable": true
   },
   "outputs": [
    {
     "name": "stdout",
     "output_type": "stream",
     "text": [
      "Episode 2999 - Running cum reward = -3.968 took 0.9s.                                                                                                                                                                                                                                                                                                                                                                                                                                                                                                                                                                                                                                                                                                                                                                                                                                                                                                                                                                                                                                                                                                                                                                                                                                                                                                                                                                                                                                                                                                                                                                                                                                                                                                                                                                                                                                                                                                                                                                                                                                                                                                                                                                                                                                                                                                                                                                                                                                                                                                                                                                                                                                                                                                                                                                                                                                                                                                                                                                                                                                                                                                                    \n"
     ]
    }
   ],
   "source": [
    "name = \"DQN_p=0.5\"\n",
    "# Train for 100 epochs of 1500 updates\n",
    "agent.fit(1500, 100, max_q_size=10, savename=\"experiment_03/weights_%s.npy\"%name)\n",
    "# Save learning curve\n",
    "agent.save_curve(\"experiment_03/curve_%s.npy\"%name)"
   ]
  },
  {
   "cell_type": "code",
   "execution_count": 281,
   "metadata": {
    "collapsed": false,
    "deletable": true,
    "editable": true
   },
   "outputs": [],
   "source": [
    "neuralnet = deepnets.stateful_RCNN_7x7((32, 3, 7, 7), 0.01, adam=True)"
   ]
  },
  {
   "cell_type": "code",
   "execution_count": 282,
   "metadata": {
    "collapsed": false,
    "deletable": true,
    "editable": true
   },
   "outputs": [
    {
     "name": "stdout",
     "output_type": "stream",
     "text": [
      "____________________________________________________________________________________________________\n",
      "Layer (type)                     Output Shape          Param #     Connected to                     \n",
      "====================================================================================================\n",
      "input_86 (InputLayer)            (32, 3, 7, 7)         0                                            \n",
      "____________________________________________________________________________________________________\n",
      "convolution2d_52 (Convolution2D) (32, 16, 3, 3)        448         input_86[0][0]                   \n",
      "____________________________________________________________________________________________________\n",
      "activation_42 (Activation)       (32, 16, 3, 3)        0           convolution2d_52[0][0]           \n",
      "____________________________________________________________________________________________________\n",
      "reshape_16 (Reshape)             (32, 1, 144)          0           activation_42[0][0]              \n",
      "____________________________________________________________________________________________________\n",
      "lstm_75 (LSTM)                   (32, 1, 16)           10304       reshape_16[0][0]                 \n",
      "____________________________________________________________________________________________________\n",
      "timedistributed_72 (TimeDistribu (32, 1, 4)            68          lstm_75[0][0]                    \n",
      "====================================================================================================\n",
      "Total params: 10,820\n",
      "Trainable params: 10,820\n",
      "Non-trainable params: 0\n",
      "____________________________________________________________________________________________________\n"
     ]
    }
   ],
   "source": [
    "neuralnet.summary()"
   ]
  },
  {
   "cell_type": "code",
   "execution_count": 3,
   "metadata": {
    "collapsed": false,
    "deletable": true,
    "editable": true
   },
   "outputs": [],
   "source": [
    "rec_depth = 50\n",
    "# Environment\n",
    "environment = dqn.GridWorld(7, 7, 5, 3, 50, gamma=gamma, centered=True, p=0.5)\n",
    "# A neural net\n",
    "neuralnet = deepnets.stateful_RCNN_7x7((batch_size, 3, 7, 7), 0.01, adam=True)\n",
    "neuralnet_copy = deepnets.stateful_RCNN_7x7((batch_size, 3, 7, 7), 0.01, adam=True)\n",
    "targetnet = deepnets.stateful_RCNN_7x7((batch_size, 3, 7, 7), 0.01, adam=True)\n",
    "# ExperienceReplay \n",
    "experience_replay = dqn.TemporalExperienceReplay(rec_depth, environment.return_state().shape, buffer_size)\n",
    "# Agent\n",
    "agent = dqn.StatefulRDQNAgent(environment, neuralnet, neuralnet_copy, experience_replay, batch_size, target_net=targetnet, \n",
    "                              flatten=False, target_net_patience=target_patience, epsilon=epsilon, gamma=gamma)"
   ]
  },
  {
   "cell_type": "code",
   "execution_count": null,
   "metadata": {
    "collapsed": false,
    "deletable": true,
    "editable": true
   },
   "outputs": [
    {
     "name": "stdout",
     "output_type": "stream",
     "text": [
      "Episode 1625 - Running cum reward = -2.299 took 1.8s.                                                                                                                                                                                                                                                                                                                                                                                                                                                                                                                                                                                                                                                                                                                                                                                                                                                                                                                                                                                                                                                                                                                                                                                                                                                                                                                                                                                                                                                                                                                                                                                                                                                                                      "
     ]
    }
   ],
   "source": [
    "name = \"RDQN_p=0.5\"\n",
    "# Train for 100 epochs of 1500 updates\n",
    "agent.fit(1500, 100, max_q_size=10, savename=\"experiment_03/weights_%s.npy\"%name)\n",
    "# Save learning curve\n",
    "agent.save_curve(\"experiment_03/curve_%s.npy\"%name)"
   ]
  },
  {
   "cell_type": "markdown",
   "metadata": {
    "collapsed": true,
    "deletable": true,
    "editable": true
   },
   "source": [
    "# Experiment 4 - - - -"
   ]
  },
  {
   "cell_type": "code",
   "execution_count": 3,
   "metadata": {
    "collapsed": false,
    "deletable": true,
    "editable": true,
    "scrolled": true
   },
   "outputs": [],
   "source": [
    "utils = reload(utils)\n",
    "dqn = reload(dqn)\n",
    "deepnets = reload(deepnets)"
   ]
  },
  {
   "cell_type": "code",
   "execution_count": 5,
   "metadata": {
    "collapsed": false,
    "deletable": true,
    "editable": true
   },
   "outputs": [],
   "source": [
    "#neuralnet.summary()"
   ]
  },
  {
   "cell_type": "code",
   "execution_count": 4,
   "metadata": {
    "collapsed": false,
    "deletable": true,
    "editable": true
   },
   "outputs": [],
   "source": [
    "rec_depth = 50\n",
    "# Environment\n",
    "environment = dqn.GridWorld(7, 7, 5, 3, 50, gamma=gamma, centered=True, p=0.5)\n",
    "# A neural net\n",
    "neuralnet = deepnets.stateful_RMCNN_7x7((32, 3, 7, 7), (32, 10, 3, 7, 7), 0.01, adam=True)\n",
    "neuralnet_copy = deepnets.stateful_RMCNN_7x7((32, 3, 7, 7), (32, 10, 3, 7, 7), 0.01, adam=True)\n",
    "targetnet = deepnets.stateful_RMCNN_7x7((32, 3, 7, 7), (32, 10, 3, 7, 7), 0.01, adam=True)\n",
    "# ExperienceReplay \n",
    "experience_replay = dqn.TemporalExperienceReplay(rec_depth, environment.return_state().shape, buffer_size, memory=10)\n",
    "# Agent\n",
    "agent = dqn.StatefulDRMQNAgent(environment, neuralnet, neuralnet_copy, experience_replay, batch_size, target_net=targetnet, \n",
    "                               flatten=False, target_net_patience=target_patience, epsilon=epsilon, gamma=gamma)"
   ]
  },
  {
   "cell_type": "code",
   "execution_count": null,
   "metadata": {
    "collapsed": false,
    "deletable": true,
    "editable": true
   },
   "outputs": [],
   "source": [
    "name = \"DRMQN_p=0.5\"\n",
    "# Train for 100 epochs of 1500 updates\n",
    "agent.fit(1500, 100, max_q_size=10, savename=\"experiment_03/weights_%s.npy\"%name)\n",
    "# Save learning curve\n",
    "agent.save_curve(\"experiment_03/curve_%s.npy\"%name)"
   ]
  },
  {
   "cell_type": "code",
   "execution_count": null,
   "metadata": {
    "collapsed": true,
    "deletable": true,
    "editable": true
   },
   "outputs": [],
   "source": []
  },
  {
   "cell_type": "code",
   "execution_count": 63,
   "metadata": {
    "collapsed": false,
    "deletable": true,
    "editable": true
   },
   "outputs": [
    {
     "name": "stdout",
     "output_type": "stream",
     "text": [
      "P =  0.\n",
      "P =  0.25\n",
      "P =  0.50\n",
      "P =  0.75\n"
     ]
    },
    {
     "data": {
      "image/png": "[encoded data removed]",
      "text/plain": [
       "<matplotlib.figure.Figure at 0x5a122358>"
      ]
     },
     "metadata": {},
     "output_type": "display_data"
    }
   ],
   "source": [
    "names = [\"DQN\", \"DRQN\", \"DRMQN\", \"stackDQN\"]\n",
    "\n",
    "plt.figure(figsize=(16, 12))\n",
    "i=0\n",
    "\n",
    "for p in [\"0.\", \"0.25\", \"0.50\", \"0.75\"]:\n",
    "    print \"P = \", p\n",
    "    \n",
    "    plt.subplot(2,2,i+1)\n",
    "    for name in names:\n",
    "        try:\n",
    "            curve = np.load(\"experiment_03/curve_%s_p=%s_adam.npy\"%(name, p))        \n",
    "            plt.plot(utils.moving_average(curve, 500), label=name + \" \" + p)\n",
    "        except:\n",
    "            pass\n",
    "    \n",
    "    plt.title(\"P=%s\"%p)\n",
    "    plt.grid()\n",
    "    plt.legend()\n",
    "    plt.ylabel(\"returns\")\n",
    "    plt.xlabel(\"episodes\")\n",
    "    \n",
    "    i += 1\n",
    "plt.show()"
   ]
  },
  {
   "cell_type": "code",
   "execution_count": null,
   "metadata": {
    "collapsed": true,
    "deletable": true,
    "editable": true
   },
   "outputs": [],
   "source": []
  },
  {
   "cell_type": "markdown",
   "metadata": {
    "collapsed": true,
    "deletable": true,
    "editable": true
   },
   "source": [
    "# Experiments 5"
   ]
  },
  {
   "cell_type": "code",
   "execution_count": 8,
   "metadata": {
    "collapsed": true,
    "deletable": true,
    "editable": true
   },
   "outputs": [],
   "source": [
    "epsilon = 0.8\n",
    "gamma= 0.99\n",
    "batch_size = 16\n",
    "target_patience = 1\n",
    "buffer_size = 50*500"
   ]
  },
  {
   "cell_type": "code",
   "execution_count": 36,
   "metadata": {
    "collapsed": true,
    "deletable": true,
    "editable": true
   },
   "outputs": [],
   "source": [
    "from imp import reload"
   ]
  },
  {
   "cell_type": "code",
   "execution_count": 51,
   "metadata": {
    "collapsed": true,
    "deletable": true,
    "editable": true
   },
   "outputs": [],
   "source": [
    "dqn = reload(dqn)"
   ]
  },
  {
   "cell_type": "code",
   "execution_count": 54,
   "metadata": {
    "collapsed": false,
    "deletable": true,
    "editable": true
   },
   "outputs": [
    {
     "name": "stdout",
     "output_type": "stream",
     "text": [
      "Episode 0 - Running cum reward = -3.402 took 3.6s.\n",
      "Episode 10 - Running cum reward = -3.446 took 3.2s.\n",
      "Episode 20 - Running cum reward = -3.468 took 3.2s.\n",
      "Episode 30 - Running cum reward = -3.438 took 3.2s.\n",
      "Episode 40 - Running cum reward = -3.308 took 3.1s.\n",
      "Episode 50 - Running cum reward = -3.425 took 3.0s.\n",
      "Episode 60 - Running cum reward = -3.325 took 3.1s.\n",
      "Episode 70 - Running cum reward = -3.197 took 3.1s.\n",
      "Episode 80 - Running cum reward = -3.079 took 3.2s.\n",
      "Episode 90 - Running cum reward = -2.981 took 3.1s.\n",
      "Episode 100 - Running cum reward = -2.779 took 3.1s.\n",
      "Episode 110 - Running cum reward = -2.550 took 3.1s.\n",
      "Episode 120 - Running cum reward = -2.487 took 3.0s.\n",
      "Episode 130 - Running cum reward = -2.394 took 3.2s.\n",
      "Episode 140 - Running cum reward = -2.165 took 3.2s.\n",
      "Episode 150 - Running cum reward = -1.812 took 3.2s.\n",
      "Episode 160 - Running cum reward = -1.764 took 3.2s.\n",
      "Episode 170 - Running cum reward = -1.533 took 3.1s.\n",
      "Episode 180 - Running cum reward = -1.594 took 3.2s.\n",
      "Episode 190 - Running cum reward = -1.502 took 3.3s.\n",
      "Episode 200 - Running cum reward = -1.408 took 3.1s.\n",
      "Episode 210 - Running cum reward = -1.494 took 3.0s.\n",
      "Episode 220 - Running cum reward = -1.387 took 3.1s.\n",
      "Episode 230 - Running cum reward = -1.456 took 3.1s.\n",
      "Episode 240 - Running cum reward = -1.386 took 3.1s.\n",
      "Episode 250 - Running cum reward = -1.582 took 3.1s.\n",
      "Episode 260 - Running cum reward = -1.625 took 3.1s.\n",
      "Episode 270 - Running cum reward = -1.748 took 3.1s.\n",
      "Episode 280 - Running cum reward = -1.630 took 3.1s.\n",
      "Episode 290 - Running cum reward = -1.497 took 3.2s.\n",
      "Episode 300 - Running cum reward = -1.557 took 3.3s.\n",
      "Episode 310 - Running cum reward = -1.564 took 3.2s.\n",
      "Episode 320 - Running cum reward = -1.520 took 3.2s.\n",
      "Episode 330 - Running cum reward = -1.607 took 3.0s.\n",
      "Episode 340 - Running cum reward = -1.573 took 3.1s.\n",
      "Episode 350 - Running cum reward = -1.578 took 3.1s.\n",
      "Episode 360 - Running cum reward = -1.596 took 3.1s.\n",
      "Episode 370 - Running cum reward = -1.783 took 3.2s.\n",
      "Episode 380 - Running cum reward = -1.720 took 3.1s.\n",
      "Episode 390 - Running cum reward = -1.721 took 3.2s.\n",
      "Episode 400 - Running cum reward = -1.777 took 3.1s.\n",
      "Episode 410 - Running cum reward = -1.745 took 3.1s.\n",
      "Episode 420 - Running cum reward = -1.797 took 3.1s.\n",
      "Episode 430 - Running cum reward = -1.903 took 3.3s.\n",
      "Episode 440 - Running cum reward = -1.915 took 3.2s.\n",
      "Episode 450 - Running cum reward = -2.049 took 3.2s.\n",
      "Episode 460 - Running cum reward = -2.029 took 3.2s.\n",
      "Episode 470 - Running cum reward = -1.982 took 3.2s.\n",
      "Episode 480 - Running cum reward = -2.000 took 3.1s.\n",
      "Episode 490 - Running cum reward = -1.862 took 3.2s.\n",
      "Episode 500 - Running cum reward = -1.868 took 3.1s.\n",
      "Episode 510 - Running cum reward = -1.771 took 3.2s.\n",
      "Episode 520 - Running cum reward = -1.860 took 3.1s.\n",
      "Episode 530 - Running cum reward = -2.048 took 3.1s.\n",
      "Episode 540 - Running cum reward = -2.037 took 3.1s.\n",
      "Episode 550 - Running cum reward = -2.086 took 3.1s.\n",
      "Episode 560 - Running cum reward = -2.134 took 3.0s.\n",
      "Episode 570 - Running cum reward = -2.229 took 3.1s.\n",
      "Episode 580 - Running cum reward = -2.394 took 3.2s.\n",
      "Episode 590 - Running cum reward = -2.557 took 3.2s.\n",
      "Episode 600 - Running cum reward = -2.561 took 3.3s.\n",
      "Episode 610 - Running cum reward = -2.631 took 3.2s.\n",
      "Episode 620 - Running cum reward = -2.674 took 3.1s.\n",
      "Episode 630 - Running cum reward = -2.670 took 3.2s.\n",
      "Episode 640 - Running cum reward = -2.552 took 3.2s.\n",
      "Episode 650 - Running cum reward = -2.518 took 3.2s.\n",
      "Episode 660 - Running cum reward = -2.576 took 3.2s.\n",
      "Episode 670 - Running cum reward = -2.576 took 3.0s.\n",
      "Episode 680 - Running cum reward = -2.601 took 3.1s.\n",
      "Episode 690 - Running cum reward = -2.573 took 3.0s.\n",
      "Episode 700 - Running cum reward = -2.663 took 3.4s.\n",
      "Episode 710 - Running cum reward = -2.755 took 3.1s.\n",
      "Episode 720 - Running cum reward = -2.821 took 3.1s.\n",
      "Episode 730 - Running cum reward = -2.877 took 3.0s.\n",
      "Episode 740 - Running cum reward = -2.823 took 3.1s.\n",
      "Episode 750 - Running cum reward = -2.833 took 3.1s.\n",
      "Episode 760 - Running cum reward = -2.832 took 3.1s.\n",
      "Episode 770 - Running cum reward = -2.920 took 3.0s.\n",
      "Episode 780 - Running cum reward = -2.869 took 3.0s.\n",
      "Episode 790 - Running cum reward = -2.880 took 3.2s.\n",
      "Episode 800 - Running cum reward = -2.932 took 3.0s.\n",
      "Episode 810 - Running cum reward = -2.932 took 3.2s.\n",
      "Episode 820 - Running cum reward = -3.042 took 3.1s.\n",
      "Episode 830 - Running cum reward = -3.041 took 3.0s.\n",
      "Episode 840 - Running cum reward = -2.961 took 3.0s.\n",
      "Episode 850 - Running cum reward = -2.951 took 3.1s.\n",
      "Episode 860 - Running cum reward = -3.005 took 3.1s.\n",
      "Episode 870 - Running cum reward = -3.037 took 3.3s.\n",
      "Episode 880 - Running cum reward = -2.846 took 3.0s.\n",
      "Episode 890 - Running cum reward = -2.926 took 3.1s.\n",
      "Episode 900 - Running cum reward = -2.881 took 3.1s.\n",
      "Episode 910 - Running cum reward = -2.799 took 3.2s.\n",
      "Episode 920 - Running cum reward = -2.870 took 3.1s.\n",
      "Episode 930 - Running cum reward = -2.864 took 3.0s.\n",
      "Episode 940 - Running cum reward = -2.938 took 3.1s.\n",
      "Episode 950 - Running cum reward = -2.890 took 3.2s.\n",
      "Episode 960 - Running cum reward = -2.954 took 3.0s.\n",
      "Episode 970 - Running cum reward = -2.843 took 3.3s.\n",
      "Episode 980 - Running cum reward = -2.865 took 3.2s.\n",
      "Episode 990 - Running cum reward = -2.907 took 3.1s.\n",
      "Episode 1000 - Running cum reward = -2.827 took 3.1s.\n",
      "Episode 1010 - Running cum reward = -2.796 took 3.1s.\n",
      "Episode 1020 - Running cum reward = -2.791 took 3.2s.\n",
      "Episode 1030 - Running cum reward = -2.847 took 3.2s.\n",
      "Episode 1040 - Running cum reward = -2.752 took 3.3s.\n",
      "Episode 1050 - Running cum reward = -2.656 took 3.0s.\n"
     ]
    },
    {
     "ename": "KeyboardInterrupt",
     "evalue": "",
     "output_type": "error",
     "traceback": [
      "\u001b[1;31m---------------------------------------------------------------------------\u001b[0m",
      "\u001b[1;31mKeyboardInterrupt\u001b[0m                         Traceback (most recent call last)",
      "\u001b[1;32m<ipython-input-54-2eb472d33321>\u001b[0m in \u001b[0;36m<module>\u001b[1;34m()\u001b[0m\n\u001b[0;32m     18\u001b[0m \u001b[1;33m\u001b[0m\u001b[0m\n\u001b[0;32m     19\u001b[0m \u001b[1;31m# Train for 100 epochs of 1500 updates\u001b[0m\u001b[1;33m\u001b[0m\u001b[1;33m\u001b[0m\u001b[0m\n\u001b[1;32m---> 20\u001b[1;33m \u001b[0magent\u001b[0m\u001b[1;33m.\u001b[0m\u001b[0mfit\u001b[0m\u001b[1;33m(\u001b[0m\u001b[1;36m3000\u001b[0m\u001b[1;33m,\u001b[0m \u001b[1;36m100\u001b[0m\u001b[1;33m,\u001b[0m \u001b[0mmax_q_size\u001b[0m\u001b[1;33m=\u001b[0m\u001b[1;36m1\u001b[0m\u001b[1;33m,\u001b[0m \u001b[0msavename\u001b[0m\u001b[1;33m=\u001b[0m\u001b[1;34m\"experiment_03/weights_%s.npy\"\u001b[0m\u001b[1;33m%\u001b[0m\u001b[0mname\u001b[0m\u001b[1;33m)\u001b[0m\u001b[1;33m\u001b[0m\u001b[0m\n\u001b[0m\u001b[0;32m     21\u001b[0m \u001b[1;31m# Save learning curve\u001b[0m\u001b[1;33m\u001b[0m\u001b[1;33m\u001b[0m\u001b[0m\n\u001b[0;32m     22\u001b[0m \u001b[0magent\u001b[0m\u001b[1;33m.\u001b[0m\u001b[0msave_curve\u001b[0m\u001b[1;33m(\u001b[0m\u001b[1;34m\"experiment_03/curve_%s.npy\"\u001b[0m\u001b[1;33m%\u001b[0m\u001b[0mname\u001b[0m\u001b[1;33m)\u001b[0m\u001b[1;33m\u001b[0m\u001b[0m\n",
      "\u001b[1;32mC:\\Users\\Guillaume\\Desktop\\UDEM\\RL\\rlcourse-march-31-guillaumebrg\\dqn.py\u001b[0m in \u001b[0;36mfit\u001b[1;34m(self, nb_update_per_epoch, nb_epoch, max_q_size, savename)\u001b[0m\n\u001b[0;32m    502\u001b[0m         \u001b[0mself\u001b[0m\u001b[1;33m.\u001b[0m\u001b[0msavename\u001b[0m \u001b[1;33m=\u001b[0m \u001b[0msavename\u001b[0m\u001b[1;33m\u001b[0m\u001b[0m\n\u001b[0;32m    503\u001b[0m         h = self.DQN.fit_generator(self.train_generator, nb_update_per_epoch*self.B, nb_epoch=nb_epoch, verbose=0,\n\u001b[1;32m--> 504\u001b[1;33m                                    max_q_size=max_q_size, nb_worker=1)\n\u001b[0m\u001b[0;32m    505\u001b[0m         \u001b[1;32mreturn\u001b[0m \u001b[0mh\u001b[0m\u001b[1;33m\u001b[0m\u001b[0m\n\u001b[0;32m    506\u001b[0m \u001b[1;33m\u001b[0m\u001b[0m\n",
      "\u001b[1;32mc:\\python27\\lib\\site-packages\\keras-1.2.0-py2.7.egg\\keras\\engine\\training.pyc\u001b[0m in \u001b[0;36mfit_generator\u001b[1;34m(self, generator, samples_per_epoch, nb_epoch, verbose, callbacks, validation_data, nb_val_samples, class_weight, max_q_size, nb_worker, pickle_safe, initial_epoch)\u001b[0m\n\u001b[0;32m   1473\u001b[0m                         \u001b[1;32mbreak\u001b[0m\u001b[1;33m\u001b[0m\u001b[0m\n\u001b[0;32m   1474\u001b[0m                     \u001b[1;32melse\u001b[0m\u001b[1;33m:\u001b[0m\u001b[1;33m\u001b[0m\u001b[0m\n\u001b[1;32m-> 1475\u001b[1;33m                         \u001b[0mtime\u001b[0m\u001b[1;33m.\u001b[0m\u001b[0msleep\u001b[0m\u001b[1;33m(\u001b[0m\u001b[0mwait_time\u001b[0m\u001b[1;33m)\u001b[0m\u001b[1;33m\u001b[0m\u001b[0m\n\u001b[0m\u001b[0;32m   1476\u001b[0m \u001b[1;33m\u001b[0m\u001b[0m\n\u001b[0;32m   1477\u001b[0m                 \u001b[1;32mif\u001b[0m \u001b[1;32mnot\u001b[0m \u001b[0mhasattr\u001b[0m\u001b[1;33m(\u001b[0m\u001b[0mgenerator_output\u001b[0m\u001b[1;33m,\u001b[0m \u001b[1;34m'__len__'\u001b[0m\u001b[1;33m)\u001b[0m\u001b[1;33m:\u001b[0m\u001b[1;33m\u001b[0m\u001b[0m\n",
      "\u001b[1;31mKeyboardInterrupt\u001b[0m: "
     ]
    }
   ],
   "source": [
    "# A neural net\n",
    "# Environment\n",
    "environment = dqn.GridWorld(7, 7, 5, 3, 50, gamma=gamma, centered=True, p=0.5)\n",
    "# A neural net\n",
    "neuralnet = deepnets.CNN_7x7((33, 7, 7), 0.001, dueling=False, adam=True)\n",
    "targetnet = deepnets.CNN_7x7((33, 7, 7), 0.001, dueling=False, adam=True)\n",
    "# ExperienceReplay \n",
    "#experience_replay = dqn.ExperienceReplay(environment.return_state().shape, buffer_size)\n",
    "# Agent\n",
    "#agent = dqn.DQNAgent(environment, neuralnet, experience_replay, batch_size, target_net=targetnet, \n",
    "#                     target_net_patience=target_patience, epsilon=epsilon, gamma=gamma)\n",
    "# ExperienceReplay\n",
    "experience_replay = dqn.TemporalExperienceReplay(50, environment.return_state().shape, buffer_size, memory=10)\n",
    "# Agent\n",
    "agent = dqn.DQNAgent(environment, neuralnet, experience_replay, batch_size, target_net=targetnet, \n",
    "                     target_net_patience=target_patience, epsilon=epsilon, gamma=gamma, stack=10)\n",
    "name = \"stackDQN_p=0.50_adam\"\n",
    "\n",
    "# Train for 100 epochs of 1500 updates\n",
    "agent.fit(3000, 100, max_q_size=1, savename=\"experiment_03/weights_%s.npy\"%name)\n",
    "# Save learning curve\n",
    "agent.save_curve(\"experiment_03/curve_%s.npy\"%name)"
   ]
  },
  {
   "cell_type": "code",
   "execution_count": null,
   "metadata": {
    "collapsed": true,
    "deletable": true,
    "editable": true
   },
   "outputs": [],
   "source": []
  },
  {
   "cell_type": "markdown",
   "metadata": {
    "deletable": true,
    "editable": true
   },
   "source": [
    "# Robustness to PO"
   ]
  },
  {
   "cell_type": "markdown",
   "metadata": {
    "deletable": true,
    "editable": true
   },
   "source": [
    "#### Stack"
   ]
  },
  {
   "cell_type": "code",
   "execution_count": 30,
   "metadata": {
    "collapsed": false,
    "deletable": true,
    "editable": true,
    "scrolled": true
   },
   "outputs": [],
   "source": [
    "batch_size = 1\n",
    "# A neural net\n",
    "# Environment\n",
    "environment = dqn.GridWorld(7, 7, 5, 3, 50, gamma=gamma, centered=True, p=0.5)\n",
    "# A neural net\n",
    "neuralnet = deepnets.CNN_7x7((33, 7, 7), 0.0001, dueling=False, adam=True)\n",
    "targetnet = deepnets.CNN_7x7((33, 7, 7), 0.0001, dueling=False, adam=True)\n",
    "# ExperienceReplay\n",
    "experience_replay = dqn.TemporalExperienceReplay(50, environment.return_state().shape, buffer_size, memory=10)\n",
    "# Agent\n",
    "agent = dqn.DQNAgent(environment, neuralnet, experience_replay, batch_size, target_net=targetnet, \n",
    "                     target_net_patience=target_patience, epsilon=epsilon, gamma=gamma, stack=10)\n",
    "agent.load_weights(\"experiment_03/weights_stackDQN_p=0._adam.npy\")\n",
    "\n",
    "for l in neuralnet.layers:\n",
    "    l.trainable=False"
   ]
  },
  {
   "cell_type": "code",
   "execution_count": 31,
   "metadata": {
    "collapsed": false,
    "deletable": true,
    "editable": true
   },
   "outputs": [
    {
     "name": "stdout",
     "output_type": "stream",
     "text": [
      "Episode 0 - Running cum reward = -1.201 took 7.4s.\n",
      "Episode 10 - Running cum reward = -1.242 took 3.3s.\n",
      "Episode 20 - Running cum reward = -1.076 took 3.1s.\n",
      "Episode 30 - Running cum reward = -0.981 took 3.3s.\n",
      "Episode 40 - Running cum reward = -0.727 took 3.1s.\n",
      "Episode 50 - Running cum reward = -0.658 took 3.8s.\n",
      "Episode 60 - Running cum reward = -0.762 took 3.2s.\n",
      "Episode 70 - Running cum reward = -0.702 took 3.0s.\n",
      "Episode 80 - Running cum reward = -0.614 took 3.1s.\n",
      "Episode 90 - Running cum reward = -0.889 took 3.0s.\n",
      "Episode 100 - Running cum reward = -0.924 took 3.1s.\n",
      "Episode 110 - Running cum reward = -0.804 took 3.1s.\n",
      "Episode 120 - Running cum reward = -0.794 took 3.0s.\n",
      "Episode 130 - Running cum reward = -0.772 took 3.0s.\n",
      "Episode 140 - Running cum reward = -0.634 took 3.0s.\n",
      "Episode 150 - Running cum reward = -0.736 took 3.1s.\n",
      "Episode 160 - Running cum reward = -0.881 took 3.0s.\n",
      "Episode 170 - Running cum reward = -1.004 took 3.0s.\n",
      "Episode 180 - Running cum reward = -1.014 took 3.0s.\n",
      "Episode 190 - Running cum reward = -1.000 took 3.0s.\n",
      "Episode 200 - Running cum reward = -0.820 took 3.0s.\n",
      "Episode 210 - Running cum reward = -0.835 took 3.0s.\n",
      "Episode 220 - Running cum reward = -0.623 took 3.0s.\n",
      "Episode 230 - Running cum reward = -0.763 took 3.0s.\n",
      "Episode 240 - Running cum reward = -0.920 took 3.1s.\n",
      "Episode 250 - Running cum reward = -0.940 took 3.2s.\n",
      "Episode 260 - Running cum reward = -0.985 took 3.5s.\n",
      "Episode 270 - Running cum reward = -0.967 took 3.2s.\n",
      "Episode 280 - Running cum reward = -0.981 took 3.1s.\n",
      "Episode 290 - Running cum reward = -0.974 took 3.1s.\n",
      "Episode 300 - Running cum reward = -1.036 took 3.1s.\n",
      "Episode 310 - Running cum reward = -1.176 took 3.2s.\n",
      "Episode 320 - Running cum reward = -1.240 took 3.0s.\n",
      "Episode 330 - Running cum reward = -1.396 took 3.1s.\n",
      "Episode 340 - Running cum reward = -1.413 took 3.1s.\n",
      "Episode 350 - Running cum reward = -1.429 took 3.1s.\n",
      "Episode 360 - Running cum reward = -1.497 took 3.1s.\n",
      "Episode 370 - Running cum reward = -1.467 took 3.1s.\n",
      "Episode 380 - Running cum reward = -1.414 took 3.1s.\n",
      "Episode 390 - Running cum reward = -1.610 took 3.2s.\n",
      "Episode 400 - Running cum reward = -1.620 took 3.2s.\n",
      "Episode 410 - Running cum reward = -1.589 took 3.1s.\n",
      "Episode 420 - Running cum reward = -1.542 took 3.1s.\n",
      "Episode 430 - Running cum reward = -1.778 took 3.1s.\n",
      "Episode 440 - Running cum reward = -1.893 took 3.0s.\n",
      "Episode 450 - Running cum reward = -1.988 took 3.0s.\n",
      "Episode 460 - Running cum reward = -2.024 took 3.0s.\n",
      "Episode 470 - Running cum reward = -2.085 took 3.2s.\n",
      "Episode 480 - Running cum reward = -2.177 took 3.1s.\n",
      "Episode 490 - Running cum reward = -2.056 took 3.1s.\n",
      "-1.26825901677\n"
     ]
    }
   ],
   "source": [
    "np.random.seed(123)\n",
    "agent.fit(500, 50, max_q_size=1, savename=\"tmp\")\n",
    "print(np.mean(agent.cum_rewards))"
   ]
  },
  {
   "cell_type": "markdown",
   "metadata": {
    "deletable": true,
    "editable": true
   },
   "source": [
    "#### DQN"
   ]
  },
  {
   "cell_type": "code",
   "execution_count": 32,
   "metadata": {
    "collapsed": true,
    "deletable": true,
    "editable": true
   },
   "outputs": [],
   "source": [
    "# Environment\n",
    "environment = dqn.GridWorld(7, 7, 5, 3, 50, gamma=gamma, centered=True, p=0.5)\n",
    "# A neural net\n",
    "neuralnet = deepnets.CNN_7x7((3, 7, 7), 0.0001, dueling=False, adam=True)\n",
    "targetnet = deepnets.CNN_7x7((3, 7, 7), 0.0001, dueling=False, adam=True)\n",
    "# ExperienceReplay \n",
    "experience_replay = dqn.ExperienceReplay(environment.return_state().shape, buffer_size)\n",
    "# Agent\n",
    "agent = dqn.DQNAgent(environment, neuralnet, experience_replay, batch_size, target_net=targetnet, \n",
    "                     target_net_patience=target_patience, epsilon=epsilon, gamma=gamma)\n",
    "agent.load_weights(\"experiment_03/weights_DQN_p=0.00_adam.npy\")\n",
    "\n",
    "for l in neuralnet.layers:\n",
    "    l.trainable=False"
   ]
  },
  {
   "cell_type": "code",
   "execution_count": 33,
   "metadata": {
    "collapsed": false,
    "deletable": true,
    "editable": true
   },
   "outputs": [
    {
     "name": "stdout",
     "output_type": "stream",
     "text": [
      "Episode 0 - Running cum reward = -1.425 took 6.7s.\n",
      "Episode 10 - Running cum reward = -1.461 took 3.0s.\n",
      "Episode 20 - Running cum reward = -1.498 took 3.1s.\n",
      "Episode 30 - Running cum reward = -1.513 took 3.1s.\n",
      "Episode 40 - Running cum reward = -1.596 took 3.0s.\n",
      "Episode 50 - Running cum reward = -1.634 took 3.1s.\n",
      "Episode 60 - Running cum reward = -1.738 took 3.2s.\n",
      "Episode 70 - Running cum reward = -1.791 took 3.7s.\n",
      "Episode 80 - Running cum reward = -1.917 took 3.2s.\n",
      "Episode 90 - Running cum reward = -1.974 took 3.2s.\n",
      "Episode 100 - Running cum reward = -1.856 took 3.1s.\n",
      "Episode 110 - Running cum reward = -1.956 took 3.1s.\n",
      "Episode 120 - Running cum reward = -2.097 took 3.2s.\n",
      "Episode 130 - Running cum reward = -2.188 took 3.1s.\n",
      "Episode 140 - Running cum reward = -2.190 took 3.2s.\n",
      "Episode 150 - Running cum reward = -2.029 took 3.1s.\n",
      "Episode 160 - Running cum reward = -2.065 took 3.2s.\n",
      "Episode 170 - Running cum reward = -2.140 took 3.4s.\n",
      "Episode 180 - Running cum reward = -2.049 took 3.2s.\n",
      "Episode 190 - Running cum reward = -2.174 took 3.2s.\n",
      "Episode 200 - Running cum reward = -2.155 took 3.2s.\n",
      "Episode 210 - Running cum reward = -2.165 took 3.2s.\n",
      "Episode 220 - Running cum reward = -2.174 took 3.2s.\n",
      "Episode 230 - Running cum reward = -2.019 took 3.2s.\n",
      "Episode 240 - Running cum reward = -2.115 took 3.3s.\n",
      "Episode 250 - Running cum reward = -2.183 took 3.2s.\n",
      "Episode 260 - Running cum reward = -2.256 took 3.2s.\n",
      "Episode 270 - Running cum reward = -2.207 took 3.2s.\n",
      "Episode 280 - Running cum reward = -2.245 took 3.2s.\n",
      "Episode 290 - Running cum reward = -2.060 took 3.1s.\n",
      "Episode 300 - Running cum reward = -2.091 took 3.1s.\n",
      "Episode 310 - Running cum reward = -1.990 took 3.4s.\n",
      "Episode 320 - Running cum reward = -1.997 took 3.2s.\n",
      "Episode 330 - Running cum reward = -1.937 took 3.2s.\n",
      "Episode 340 - Running cum reward = -1.820 took 3.1s.\n",
      "Episode 350 - Running cum reward = -1.898 took 3.2s.\n",
      "Episode 360 - Running cum reward = -1.846 took 3.2s.\n",
      "Episode 370 - Running cum reward = -1.847 took 3.2s.\n",
      "Episode 380 - Running cum reward = -1.856 took 3.0s.\n",
      "Episode 390 - Running cum reward = -1.992 took 3.0s.\n",
      "Episode 400 - Running cum reward = -1.953 took 3.0s.\n",
      "Episode 410 - Running cum reward = -1.941 took 3.0s.\n",
      "Episode 420 - Running cum reward = -1.940 took 3.0s.\n",
      "Episode 430 - Running cum reward = -1.995 took 3.0s.\n",
      "Episode 440 - Running cum reward = -1.978 took 3.0s.\n",
      "Episode 450 - Running cum reward = -2.081 took 3.0s.\n",
      "Episode 460 - Running cum reward = -2.184 took 3.0s.\n",
      "Episode 470 - Running cum reward = -2.162 took 3.1s.\n",
      "Episode 480 - Running cum reward = -2.166 took 3.0s.\n",
      "Episode 490 - Running cum reward = -2.203 took 3.0s.\n",
      "-2.0475274762\n"
     ]
    }
   ],
   "source": [
    "np.random.seed(123)\n",
    "agent.fit(500, 50, max_q_size=1, savename=\"tmp\")\n",
    "print(np.mean(agent.cum_rewards))"
   ]
  },
  {
   "cell_type": "markdown",
   "metadata": {
    "deletable": true,
    "editable": true
   },
   "source": [
    "#### DRQN"
   ]
  },
  {
   "cell_type": "code",
   "execution_count": 34,
   "metadata": {
    "collapsed": true,
    "deletable": true,
    "editable": true
   },
   "outputs": [],
   "source": [
    "rec_depth = 50\n",
    "# Environment\n",
    "environment = dqn.GridWorld(7, 7, 5, 3, 50, gamma=gamma, centered=True, p=0.5)\n",
    "# A neural net\n",
    "neuralnet = deepnets.stateful_RCNN_7x7((batch_size, 3, 7, 7), 0.0001, adam=True)\n",
    "neuralnet_copy = deepnets.stateful_RCNN_7x7((batch_size, 3, 7, 7), 0.0001, adam=True)\n",
    "targetnet = deepnets.stateful_RCNN_7x7((batch_size, 3, 7, 7), 0.0001, adam=True)\n",
    "# ExperienceReplay \n",
    "experience_replay = dqn.TemporalExperienceReplay(rec_depth, environment.return_state().shape, buffer_size)\n",
    "# Agent\n",
    "agent = dqn.StatefulRDQNAgent(environment, neuralnet, neuralnet_copy, experience_replay, batch_size, target_net=targetnet, \n",
    "                              flatten=False, target_net_patience=target_patience, epsilon=epsilon, gamma=gamma)\n",
    "agent.load_weights(\"experiment_03/weights_DRQN_p=0._adam_v2.npy\")\n",
    "\n",
    "for l in neuralnet.layers:\n",
    "    l.trainable=False"
   ]
  },
  {
   "cell_type": "code",
   "execution_count": 35,
   "metadata": {
    "collapsed": false,
    "deletable": true,
    "editable": true
   },
   "outputs": [
    {
     "name": "stdout",
     "output_type": "stream",
     "text": [
      "Episode 0 - Running cum reward = -1.141 took 12.8s.\n",
      "Episode 10 - Running cum reward = -1.005 took 5.4s.\n",
      "Episode 20 - Running cum reward = -0.842 took 5.5s.\n",
      "Episode 30 - Running cum reward = -0.742 took 5.7s.\n",
      "Episode 40 - Running cum reward = -0.745 took 5.4s.\n",
      "Episode 50 - Running cum reward = -0.608 took 5.5s.\n",
      "Episode 60 - Running cum reward = -0.632 took 5.5s.\n",
      "Episode 70 - Running cum reward = -0.544 took 5.5s.\n",
      "Episode 80 - Running cum reward = -0.706 took 6.1s.\n",
      "Episode 90 - Running cum reward = -0.908 took 5.7s.\n",
      "Episode 100 - Running cum reward = -0.936 took 5.5s.\n",
      "Episode 110 - Running cum reward = -0.969 took 5.3s.\n",
      "Episode 120 - Running cum reward = -0.923 took 5.7s.\n",
      "Episode 130 - Running cum reward = -0.981 took 5.5s.\n",
      "Episode 140 - Running cum reward = -0.924 took 5.9s.\n",
      "Episode 150 - Running cum reward = -0.931 took 5.5s.\n",
      "Episode 160 - Running cum reward = -0.872 took 5.5s.\n",
      "Episode 170 - Running cum reward = -0.883 took 5.5s.\n",
      "Episode 180 - Running cum reward = -0.933 took 5.5s.\n",
      "Episode 190 - Running cum reward = -0.905 took 5.5s.\n",
      "Episode 200 - Running cum reward = -0.922 took 5.6s.\n",
      "Episode 210 - Running cum reward = -0.859 took 5.5s.\n",
      "Episode 220 - Running cum reward = -1.029 took 5.5s.\n",
      "Episode 230 - Running cum reward = -1.070 took 5.5s.\n",
      "Episode 240 - Running cum reward = -1.274 took 5.5s.\n",
      "Episode 250 - Running cum reward = -1.272 took 5.5s.\n",
      "Episode 260 - Running cum reward = -1.282 took 5.5s.\n",
      "Episode 270 - Running cum reward = -1.195 took 5.5s.\n",
      "Episode 280 - Running cum reward = -1.176 took 5.5s.\n",
      "Episode 290 - Running cum reward = -1.296 took 5.7s.\n",
      "Episode 300 - Running cum reward = -1.394 took 6.1s.\n",
      "Episode 310 - Running cum reward = -1.546 took 5.7s.\n",
      "Episode 320 - Running cum reward = -1.511 took 5.5s.\n",
      "Episode 330 - Running cum reward = -1.524 took 5.6s.\n",
      "Episode 340 - Running cum reward = -1.607 took 5.5s.\n",
      "Episode 350 - Running cum reward = -1.670 took 5.4s.\n",
      "Episode 360 - Running cum reward = -1.603 took 5.5s.\n",
      "Episode 370 - Running cum reward = -1.684 took 5.5s.\n",
      "Episode 380 - Running cum reward = -1.746 took 5.5s.\n",
      "Episode 390 - Running cum reward = -1.762 took 5.5s.\n",
      "Episode 400 - Running cum reward = -1.643 took 5.5s.\n",
      "Episode 410 - Running cum reward = -1.767 took 5.5s.\n",
      "Episode 420 - Running cum reward = -1.759 took 5.5s.\n",
      "Episode 430 - Running cum reward = -1.797 took 5.5s.\n",
      "Episode 440 - Running cum reward = -1.951 took 5.5s.\n",
      "Episode 450 - Running cum reward = -1.919 took 5.5s.\n",
      "Episode 460 - Running cum reward = -1.879 took 5.5s.\n",
      "Episode 470 - Running cum reward = -1.911 took 5.5s.\n",
      "Episode 480 - Running cum reward = -1.870 took 5.4s.\n",
      "Episode 490 - Running cum reward = -1.733 took 5.4s.\n",
      "-1.32613924114\n"
     ]
    }
   ],
   "source": [
    "np.random.seed(123)\n",
    "agent.fit(500, 50, max_q_size=1, savename=\"tmp\")\n",
    "print(np.mean(agent.cum_rewards))"
   ]
  },
  {
   "cell_type": "markdown",
   "metadata": {
    "deletable": true,
    "editable": true
   },
   "source": [
    "#### DRMQN"
   ]
  },
  {
   "cell_type": "code",
   "execution_count": 28,
   "metadata": {
    "collapsed": true,
    "deletable": true,
    "editable": true
   },
   "outputs": [],
   "source": [
    "rec_depth = 50\n",
    "# Environment\n",
    "environment = dqn.GridWorld(7, 7, 5, 3, 50, gamma=gamma, centered=True, p=0.5)\n",
    "# A neural net\n",
    "neuralnet = deepnets.stateful_RMCNN_7x7((32, 3, 7, 7), (32, 10, 3, 7, 7), 0.0001, adam=True)\n",
    "neuralnet_copy = deepnets.stateful_RMCNN_7x7((32, 3, 7, 7), (32, 10, 3, 7, 7), 0.0001, adam=True)\n",
    "targetnet = deepnets.stateful_RMCNN_7x7((32, 3, 7, 7), (32, 10, 3, 7, 7), 0.0001, adam=True)\n",
    "# ExperienceReplay \n",
    "experience_replay = dqn.TemporalExperienceReplay(rec_depth, environment.return_state().shape, buffer_size, memory=10)\n",
    "# Agent\n",
    "agent = dqn.StatefulDRMQNAgent(environment, neuralnet, neuralnet_copy, experience_replay, batch_size, target_net=targetnet, \n",
    "                               flatten=False, target_net_patience=target_patience, epsilon=epsilon, gamma=gamma)\n",
    "agent.load_weights(\"experiment_03/weights_DRMQN_full_adam.npy\")\n",
    "\n",
    "for l in neuralnet.layers:\n",
    "    l.trainable=False"
   ]
  },
  {
   "cell_type": "code",
   "execution_count": 29,
   "metadata": {
    "collapsed": false,
    "deletable": true,
    "editable": true
   },
   "outputs": [
    {
     "name": "stderr",
     "output_type": "stream",
     "text": [
      "Exception in thread Thread-38:\n",
      "Traceback (most recent call last):\n",
      "  File \"c:\\python27\\lib\\threading.py\", line 810, in __bootstrap_inner\n",
      "    self.run()\n",
      "  File \"c:\\python27\\lib\\threading.py\", line 763, in run\n",
      "    self.__target(*self.__args, **self.__kwargs)\n",
      "  File \"c:\\python27\\lib\\site-packages\\keras-1.2.0-py2.7.egg\\keras\\engine\\training.py\", line 409, in data_generator_task\n",
      "    generator_output = next(generator)\n",
      "  File \"dqn.py\", line 411, in qlearning_generator\n",
      "    target, Q_prime_batch = self.compute_target_and_Qprime(S_batch, S_prime_batch, A_batch, R_batch, T_batch, M_batch)\n",
      "  File \"dqn.py\", line 646, in compute_target_and_Qprime\n",
      "    Q_batch = self.DQN_copy.predict([S_batch, M_batch])\n",
      "  File \"c:\\python27\\lib\\site-packages\\keras-1.2.0-py2.7.egg\\keras\\engine\\training.py\", line 1220, in predict\n",
      "    batch_size=batch_size, verbose=verbose)\n",
      "  File \"c:\\python27\\lib\\site-packages\\keras-1.2.0-py2.7.egg\\keras\\engine\\training.py\", line 898, in _predict_loop\n",
      "    batch_outs = f(ins_batch)\n",
      "  File \"c:\\python27\\lib\\site-packages\\keras-1.2.0-py2.7.egg\\keras\\backend\\theano_backend.py\", line 953, in __call__\n",
      "    return self.function(*inputs)\n",
      "  File \"c:\\python27\\lib\\site-packages\\theano\\compile\\function_module.py\", line 875, in __call__\n",
      "    storage_map=getattr(self.fn, 'storage_map', None))\n",
      "  File \"c:\\python27\\lib\\site-packages\\theano\\gof\\link.py\", line 325, in raise_with_op\n",
      "    reraise(exc_type, exc_value, exc_trace)\n",
      "  File \"c:\\python27\\lib\\site-packages\\theano\\compile\\function_module.py\", line 862, in __call__\n",
      "    self.fn() if output_subset is None else\\\n",
      "  File \"c:\\python27\\lib\\site-packages\\theano\\scan_module\\scan_op.py\", line 951, in rval\n",
      "    r = p(n, [x[0] for x in i], o)\n",
      "  File \"c:\\python27\\lib\\site-packages\\theano\\scan_module\\scan_op.py\", line 940, in <lambda>\n",
      "    self, node)\n",
      "  File \"theano/scan_module/scan_perform.pyx\", line 405, in theano.scan_module.scan_perform.perform (C:\\Users\\Guillaume\\AppData\\Local\\Theano\\compiledir_Windows-8-6.2.9200-Intel64_Family_6_Model_69_Stepping_1_GenuineIntel-2.7.8-64\\scan_perform\\mod.cpp:4316)\n",
      "  File \"c:\\python27\\lib\\site-packages\\theano\\gof\\link.py\", line 325, in raise_with_op\n",
      "    reraise(exc_type, exc_value, exc_trace)\n",
      "  File \"theano/scan_module/scan_perform.pyx\", line 397, in theano.scan_module.scan_perform.perform (C:\\Users\\Guillaume\\AppData\\Local\\Theano\\compiledir_Windows-8-6.2.9200-Intel64_Family_6_Model_69_Stepping_1_GenuineIntel-2.7.8-64\\scan_perform\\mod.cpp:4193)\n",
      "ValueError: dimension mismatch in args to gemm (32,16)x(16,16)->(1,16)\n",
      "Apply node that caused the error: GpuGemm{no_inplace}(GpuSubtensor{::, int64::}.0, TensorConstant{0.20000000298}, <CudaNdarrayType(float32, matrix)>, lstm_14_U_o_copy[cuda], TensorConstant{0.20000000298})\n",
      "Toposort index: 5\n",
      "Inputs types: [CudaNdarrayType(float32, matrix), TensorType(float32, scalar), CudaNdarrayType(float32, matrix), CudaNdarrayType(float32, matrix), TensorType(float32, scalar)]\n",
      "Inputs shapes: [(1, 16), (), (32, 16), (16, 16), ()]\n",
      "Inputs strides: [(0, 1), (), (16, 1), (16, 1), ()]\n",
      "Inputs values: ['not shown', array(0.20000000298023224, dtype=float32), 'not shown', 'not shown', array(0.20000000298023224, dtype=float32)]\n",
      "Outputs clients: [[GpuElemwise{Composite{(clip((i0 + i1), i2, i3) * tanh(i4))},no_inplace}(CudaNdarrayConstant{[[ 0.5]]}, GpuGemm{no_inplace}.0, CudaNdarrayConstant{[[ 0.]]}, CudaNdarrayConstant{[[ 1.]]}, GpuElemwise{Composite{((clip((i0 + i1), i2, i3) * i4) + (clip((i0 + i5), i2, i3) * tanh(i6)))},no_inplace}.0)]]\n",
      "\n",
      "HINT: Re-running with most Theano optimization disabled could give you a back-trace of when this node was created. This can be done with by setting the Theano flag 'optimizer=fast_compile'. If that does not work, Theano optimizations can be disabled with 'optimizer=None'.\n",
      "HINT: Use the Theano flag 'exception_verbosity=high' for a debugprint and storage map footprint of this apply node.\n",
      "Apply node that caused the error: forall_inplace,gpu,scan_fn}(TensorConstant{1}, GpuDimShuffle{1,0,2}.0, GpuIncSubtensor{InplaceSet;:int64:}.0, GpuIncSubtensor{InplaceSet;:int64:}.0, TensorConstant{1}, lstm_14_U_o, lstm_14_U_f, lstm_14_U_i, lstm_14_U_c)\n",
      "Toposort index: 90\n",
      "Inputs types: [TensorType(int64, scalar), CudaNdarrayType(float32, (True, False, False)), CudaNdarrayType(float32, 3D), CudaNdarrayType(float32, 3D), TensorType(int64, scalar), CudaNdarrayType(float32, matrix), CudaNdarrayType(float32, matrix), CudaNdarrayType(float32, matrix), CudaNdarrayType(float32, matrix)]\n",
      "Inputs shapes: [(), (1, 1, 64), (2, 32, 16), (2, 32, 16), (), (16, 16), (16, 16), (16, 16), (16, 16)]\n",
      "Inputs strides: [(), (0, 0, 1), (512, 16, 1), (512, 16, 1), (), (16, 1), (16, 1), (16, 1), (16, 1)]\n",
      "Inputs values: [array(1L, dtype=int64), 'not shown', 'not shown', 'not shown', array(1L, dtype=int64), 'not shown', 'not shown', 'not shown', 'not shown']\n",
      "Outputs clients: [[GpuSubtensor{int64}(forall_inplace,gpu,scan_fn}.0, Constant{1})], [GpuSubtensor{int64}(forall_inplace,gpu,scan_fn}.1, Constant{1})], [GpuDimShuffle{1,0,2}(forall_inplace,gpu,scan_fn}.2)]]\n",
      "\n",
      "HINT: Re-running with most Theano optimization disabled could give you a back-trace of when this node was created. This can be done with by setting the Theano flag 'optimizer=fast_compile'. If that does not work, Theano optimizations can be disabled with 'optimizer=None'.\n",
      "HINT: Use the Theano flag 'exception_verbosity=high' for a debugprint and storage map footprint of this apply node.\n",
      "\n"
     ]
    },
    {
     "ename": "ValueError",
     "evalue": "output of generator should be a tuple (x, y, sample_weight) or (x, y). Found: None",
     "output_type": "error",
     "traceback": [
      "\u001b[1;31m---------------------------------------------------------------------------\u001b[0m",
      "\u001b[1;31mValueError\u001b[0m                                Traceback (most recent call last)",
      "\u001b[1;32m<ipython-input-29-be88f010de23>\u001b[0m in \u001b[0;36m<module>\u001b[1;34m()\u001b[0m\n\u001b[0;32m      1\u001b[0m \u001b[0mnp\u001b[0m\u001b[1;33m.\u001b[0m\u001b[0mrandom\u001b[0m\u001b[1;33m.\u001b[0m\u001b[0mseed\u001b[0m\u001b[1;33m(\u001b[0m\u001b[1;36m123\u001b[0m\u001b[1;33m)\u001b[0m\u001b[1;33m\u001b[0m\u001b[0m\n\u001b[1;32m----> 2\u001b[1;33m \u001b[0magent\u001b[0m\u001b[1;33m.\u001b[0m\u001b[0mfit\u001b[0m\u001b[1;33m(\u001b[0m\u001b[1;36m10\u001b[0m\u001b[1;33m,\u001b[0m \u001b[1;36m50\u001b[0m\u001b[1;33m,\u001b[0m \u001b[0mmax_q_size\u001b[0m\u001b[1;33m=\u001b[0m\u001b[1;36m1\u001b[0m\u001b[1;33m,\u001b[0m \u001b[0msavename\u001b[0m\u001b[1;33m=\u001b[0m\u001b[1;34m\"tmp\"\u001b[0m\u001b[1;33m)\u001b[0m\u001b[1;33m\u001b[0m\u001b[0m\n\u001b[0m\u001b[0;32m      3\u001b[0m \u001b[1;32mprint\u001b[0m\u001b[1;33m(\u001b[0m\u001b[0mnp\u001b[0m\u001b[1;33m.\u001b[0m\u001b[0mmean\u001b[0m\u001b[1;33m(\u001b[0m\u001b[0magent\u001b[0m\u001b[1;33m.\u001b[0m\u001b[0mcum_rewards\u001b[0m\u001b[1;33m)\u001b[0m\u001b[1;33m)\u001b[0m\u001b[1;33m\u001b[0m\u001b[0m\n",
      "\u001b[1;32mC:\\Users\\Guillaume\\Desktop\\UDEM\\RL\\rlcourse-march-31-guillaumebrg\\dqn.py\u001b[0m in \u001b[0;36mfit\u001b[1;34m(self, nb_update_per_epoch, nb_epoch, max_q_size, savename)\u001b[0m\n\u001b[0;32m    502\u001b[0m         \u001b[0mself\u001b[0m\u001b[1;33m.\u001b[0m\u001b[0msavename\u001b[0m \u001b[1;33m=\u001b[0m \u001b[0msavename\u001b[0m\u001b[1;33m\u001b[0m\u001b[0m\n\u001b[0;32m    503\u001b[0m         h = self.DQN.fit_generator(self.train_generator, nb_update_per_epoch*self.B, nb_epoch=nb_epoch, verbose=0,\n\u001b[1;32m--> 504\u001b[1;33m                                    max_q_size=max_q_size, nb_worker=1)\n\u001b[0m\u001b[0;32m    505\u001b[0m         \u001b[1;32mreturn\u001b[0m \u001b[0mh\u001b[0m\u001b[1;33m\u001b[0m\u001b[0m\n\u001b[0;32m    506\u001b[0m \u001b[1;33m\u001b[0m\u001b[0m\n",
      "\u001b[1;32mc:\\python27\\lib\\site-packages\\keras-1.2.0-py2.7.egg\\keras\\engine\\training.pyc\u001b[0m in \u001b[0;36mfit_generator\u001b[1;34m(self, generator, samples_per_epoch, nb_epoch, verbose, callbacks, validation_data, nb_val_samples, class_weight, max_q_size, nb_worker, pickle_safe, initial_epoch)\u001b[0m\n\u001b[0;32m   1480\u001b[0m                                      \u001b[1;34m'(x, y, sample_weight) '\u001b[0m\u001b[1;33m\u001b[0m\u001b[0m\n\u001b[0;32m   1481\u001b[0m                                      \u001b[1;34m'or (x, y). Found: '\u001b[0m \u001b[1;33m+\u001b[0m\u001b[1;33m\u001b[0m\u001b[0m\n\u001b[1;32m-> 1482\u001b[1;33m                                      str(generator_output))\n\u001b[0m\u001b[0;32m   1483\u001b[0m                 \u001b[1;32mif\u001b[0m \u001b[0mlen\u001b[0m\u001b[1;33m(\u001b[0m\u001b[0mgenerator_output\u001b[0m\u001b[1;33m)\u001b[0m \u001b[1;33m==\u001b[0m \u001b[1;36m2\u001b[0m\u001b[1;33m:\u001b[0m\u001b[1;33m\u001b[0m\u001b[0m\n\u001b[0;32m   1484\u001b[0m                     \u001b[0mx\u001b[0m\u001b[1;33m,\u001b[0m \u001b[0my\u001b[0m \u001b[1;33m=\u001b[0m \u001b[0mgenerator_output\u001b[0m\u001b[1;33m\u001b[0m\u001b[0m\n",
      "\u001b[1;31mValueError\u001b[0m: output of generator should be a tuple (x, y, sample_weight) or (x, y). Found: None"
     ]
    }
   ],
   "source": [
    "np.random.seed(123)\n",
    "agent.fit(10, 50, max_q_size=1, savename=\"tmp\")\n",
    "print(np.mean(agent.cum_rewards))"
   ]
  },
  {
   "cell_type": "code",
   "execution_count": null,
   "metadata": {
    "collapsed": true,
    "deletable": true,
    "editable": true
   },
   "outputs": [],
   "source": []
  }
 ],
 "metadata": {
  "anaconda-cloud": {},
  "kernelspec": {
   "display_name": "Python 2",
   "language": "python",
   "name": "python2"
  },
  "language_info": {
   "codemirror_mode": {
    "name": "ipython",
    "version": 2
   },
   "file_extension": ".py",
   "mimetype": "text/x-python",
   "name": "python",
   "nbconvert_exporter": "python",
   "pygments_lexer": "ipython2",
   "version": "2.7.8"
  },
  "widgets": {
   "state": {},
   "version": "1.1.2"
  }
 },
 "nbformat": 4,
 "nbformat_minor": 1
}
